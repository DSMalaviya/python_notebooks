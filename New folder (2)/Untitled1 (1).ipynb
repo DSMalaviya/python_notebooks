{
  "nbformat": 4,
  "nbformat_minor": 0,
  "metadata": {
    "colab": {
      "name": "Untitled1.ipynb",
      "provenance": [],
      "collapsed_sections": []
    },
    "kernelspec": {
      "name": "python3",
      "display_name": "Python 3"
    },
    "accelerator": "GPU"
  },
  "cells": [
    {
      "cell_type": "code",
      "metadata": {
        "id": "EXWzI5CMxa8M",
        "colab_type": "code",
        "colab": {}
      },
      "source": [
        "import os\n",
        "import shutil"
      ],
      "execution_count": 1,
      "outputs": []
    },
    {
      "cell_type": "code",
      "metadata": {
        "id": "nBJfxJfj0xcq",
        "colab_type": "code",
        "colab": {}
      },
      "source": [
        "os.environ['KAGGLE_CONFIG_DIR']=\"/content\""
      ],
      "execution_count": 2,
      "outputs": []
    },
    {
      "cell_type": "code",
      "metadata": {
        "id": "invLxVSN1pDG",
        "colab_type": "code",
        "colab": {
          "base_uri": "https://localhost:8080/",
          "height": 84
        },
        "outputId": "f1d44e0d-de34-478b-f9f2-c83073a1b492"
      },
      "source": [
        "!kaggle datasets download -d paultimothymooney/chest-xray-pneumonia"
      ],
      "execution_count": 3,
      "outputs": [
        {
          "output_type": "stream",
          "text": [
            "Warning: Your Kaggle API key is readable by other users on this system! To fix this, you can run 'chmod 600 /content/kaggle.json'\n",
            "Downloading chest-xray-pneumonia.zip to /content\n",
            "100% 2.29G/2.29G [00:29<00:00, 41.2MB/s]\n",
            "100% 2.29G/2.29G [00:29<00:00, 82.9MB/s]\n"
          ],
          "name": "stdout"
        }
      ]
    },
    {
      "cell_type": "code",
      "metadata": {
        "id": "8Ar8ExDD1v1Z",
        "colab_type": "code",
        "colab": {
          "base_uri": "https://localhost:8080/",
          "height": 35
        },
        "outputId": "efa01798-cb78-488e-cb77-41b1fbc0064b"
      },
      "source": [
        "shutil.copy2('/content/drive/My Drive/Untitled folder/Dataset.zip','.')"
      ],
      "execution_count": 4,
      "outputs": [
        {
          "output_type": "execute_result",
          "data": {
            "application/vnd.google.colaboratory.intrinsic+json": {
              "type": "string"
            },
            "text/plain": [
              "'./Dataset.zip'"
            ]
          },
          "metadata": {
            "tags": []
          },
          "execution_count": 4
        }
      ]
    },
    {
      "cell_type": "code",
      "metadata": {
        "id": "UI7PXp6v15iE",
        "colab_type": "code",
        "colab": {
          "base_uri": "https://localhost:8080/",
          "height": 50
        },
        "outputId": "e9111013-dade-439a-fdd7-82b948fcbf01"
      },
      "source": [
        "from zipfile import ZipFile\n",
        "fname='/content/Dataset.zip'\n",
        "with ZipFile(fname,'r') as zip:\n",
        "  zip.extractall()\n",
        "  print('done')\n",
        "\n",
        "fname='/content/chest-xray-pneumonia.zip'\n",
        "with ZipFile(fname,'r') as zip:\n",
        "  zip.extractall()\n",
        "  print('done')\n"
      ],
      "execution_count": 5,
      "outputs": [
        {
          "output_type": "stream",
          "text": [
            "done\n",
            "done\n"
          ],
          "name": "stdout"
        }
      ]
    },
    {
      "cell_type": "code",
      "metadata": {
        "id": "Ip8Gz5hy2K_c",
        "colab_type": "code",
        "colab": {
          "base_uri": "https://localhost:8080/",
          "height": 35
        },
        "outputId": "51bb1dd7-7e68-4946-b9ee-d5e36afb42de"
      },
      "source": [
        "os.mkdir('dataset')\n",
        "shutil.move('/content/covid','dataset')\n",
        "shutil.move('/content/chest_xray/train/NORMAL','dataset')\n",
        "shutil.move('/content/chest_xray/train/PNEUMONIA','dataset')"
      ],
      "execution_count": 6,
      "outputs": [
        {
          "output_type": "execute_result",
          "data": {
            "application/vnd.google.colaboratory.intrinsic+json": {
              "type": "string"
            },
            "text/plain": [
              "'dataset/PNEUMONIA'"
            ]
          },
          "metadata": {
            "tags": []
          },
          "execution_count": 6
        }
      ]
    },
    {
      "cell_type": "code",
      "metadata": {
        "id": "RrBuV9Cv23HZ",
        "colab_type": "code",
        "colab": {}
      },
      "source": [
        "import tensorflow as tf\n",
        "from tensorflow.keras.layers import Input,Lambda,Dense,Flatten,AveragePooling2D,Dropout\n",
        "from tensorflow.keras.models import Model,load_model\n",
        "from tensorflow.keras.applications.resnet50 import ResNet50\n",
        "from tensorflow.keras.applications.resnet50 import preprocess_input\n",
        "from tensorflow.keras.preprocessing import image\n",
        "from tensorflow.keras.preprocessing.image import ImageDataGenerator\n",
        "\n",
        "from sklearn.metrics import confusion_matrix,roc_curve\n",
        "import cv2\n",
        "import numpy as np\n",
        "import matplotlib.pyplot as plt\n",
        "from glob import glob"
      ],
      "execution_count": 2,
      "outputs": []
    },
    {
      "cell_type": "code",
      "metadata": {
        "id": "nZ2czCsB4Qpt",
        "colab_type": "code",
        "colab": {}
      },
      "source": [
        "IMGE_SIZE=[224,224]\n",
        "\n",
        "epochs=50\n",
        "batch_size=32\n",
        "\n",
        "covid_path='/content/dataset/covid'\n",
        "normal_path='/content/dataset/NORMAL'\n",
        "pneumonia_path='/content/dataset/PNEUMONIA'\n",
        "\n",
        "covid_files=glob(covid_path+'/*')\n",
        "normal_files=glob(normal_path+'/*')\n",
        "pneumonia_files=glob(normal_path+'/*')"
      ],
      "execution_count": 3,
      "outputs": []
    },
    {
      "cell_type": "code",
      "metadata": {
        "id": "5q1TZEb55OHq",
        "colab_type": "code",
        "colab": {}
      },
      "source": [
        "covid_labels=[]\n",
        "normal_labels=[]\n",
        "pneumonia_labels=[]\n",
        "\n",
        "covid_images=[]\n",
        "normal_images=[]\n",
        "pneumonia_images=[]\n",
        "\n",
        "import cv2\n",
        "for i in range(len(covid_files)):\n",
        "  image=cv2.imread(covid_files[i])\n",
        "  image=cv2.cvtColor(image,cv2.COLOR_BGR2RGB)\n",
        "  image=cv2.resize(image,(224,224))\n",
        "  covid_images.append(image)\n",
        "  covid_labels.append('covid')\n",
        "\n",
        "for i in range(500):\n",
        "  image=cv2.imread(normal_files[i])\n",
        "  image=cv2.cvtColor(image,cv2.COLOR_BGR2RGB)\n",
        "  image=cv2.resize(image,(224,224))\n",
        "  normal_images.append(image)\n",
        "  normal_labels.append('normal')\n",
        "\n",
        "for i in range(500):\n",
        "  image=cv2.imread(pneumonia_files[i])\n",
        "  image=cv2.cvtColor(image,cv2.COLOR_BGR2RGB)\n",
        "  image=cv2.resize(image,(224,224))\n",
        "  pneumonia_images.append(image)\n",
        "  pneumonia_labels.append('pneumonia')"
      ],
      "execution_count": 33,
      "outputs": []
    },
    {
      "cell_type": "code",
      "metadata": {
        "id": "DroCPn0U7CuK",
        "colab_type": "code",
        "colab": {}
      },
      "source": [
        "#normalize to (0,1)\n",
        "covid_images=np.array(covid_images)/255.0\n",
        "normal_images=np.array(normal_images)/255.0\n",
        "# pneumonia_images=np.array(pneumonia_images)/255.0"
      ],
      "execution_count": 34,
      "outputs": []
    },
    {
      "cell_type": "code",
      "metadata": {
        "id": "CZxX5UdS7wVd",
        "colab_type": "code",
        "colab": {}
      },
      "source": [
        "from sklearn.model_selection import train_test_split\n",
        "from sklearn.preprocessing import LabelBinarizer\n",
        "from tensorflow.keras.utils import to_categorical\n",
        "\n",
        "#split to train,test\n",
        "covid_x_train,covid_x_test,covid_y_train,covid_y_test=train_test_split(covid_images,covid_labels,test_size=.2)\n",
        "normal_x_train,normal_x_test,normal_y_train,normal_y_test=train_test_split(normal_images,normal_labels,test_size=.2)\n",
        "pneumonia_x_train,pneumonia_x_test,pneumonia_y_train,pneumonia_y_test=train_test_split(pneumonia_images,pneumonia_labels,test_size=.2)\n",
        "\n",
        "X_train=np.concatenate((pneumonia_x_train,normal_x_train,covid_x_train),axis=0)\n",
        "X_test=np.concatenate((pneumonia_x_test,normal_x_test,covid_x_test),axis=0)\n",
        "Y_train=np.concatenate((pneumonia_y_train,normal_y_train,covid_y_train),axis=0)\n",
        "Y_test=np.concatenate((pneumonia_y_test,normal_y_test,covid_y_test),axis=0)\n",
        "\n",
        "\n",
        "# X_train=np.concatenate((normal_x_train,covid_x_train),axis=0)\n",
        "# X_test=np.concatenate((normal_x_test,covid_x_test),axis=0)\n",
        "# Y_train=np.concatenate((normal_y_train,covid_y_train),axis=0)\n",
        "# Y_test=np.concatenate((normal_y_test,covid_y_test),axis=0)"
      ],
      "execution_count": 41,
      "outputs": []
    },
    {
      "cell_type": "code",
      "metadata": {
        "id": "xEhLHqvk-wjn",
        "colab_type": "code",
        "colab": {}
      },
      "source": [
        "# make labels imto categories 0 or 1\n",
        "Y_train=LabelBinarizer().fit_transform(Y_train)\n",
        "# Y_train=to_categorical(Y_train)\n",
        "\n",
        "Y_test=LabelBinarizer().fit_transform(Y_test)\n",
        "# Y_test=to_categorical(Y_test)"
      ],
      "execution_count": 44,
      "outputs": []
    },
    {
      "cell_type": "code",
      "metadata": {
        "id": "D7Pf_g3ZANKy",
        "colab_type": "code",
        "colab": {}
      },
      "source": [
        "res=ResNet50(weights='imagenet',include_top=False,input_tensor=Input(shape=(224,224,3)))\n",
        "\n",
        "outputs=res.output\n",
        "outputs=Flatten(name='flattern')(outputs)\n",
        "outputs=Dropout(.5)(outputs)\n",
        "outputs=Dense(3,activation='softmax')(outputs)\n",
        "\n",
        "model=Model(inputs=res.input,outputs=outputs)\n",
        "\n",
        "for layer in res.layers:\n",
        "  layer.trainable=False\n",
        "\n",
        "model.compile(\n",
        "    loss='categorical_crossentropy',\n",
        "    optimizer='adam',\n",
        "    metrics=['accuracy']\n",
        ")\n",
        "\n",
        "train_aug=ImageDataGenerator(\n",
        "    rotation_range=20,\n",
        "    width_shift_range=.2,\n",
        "    height_shift_range=.2,\n",
        "    horizontal_flip=True\n",
        ")"
      ],
      "execution_count": 45,
      "outputs": []
    },
    {
      "cell_type": "code",
      "metadata": {
        "id": "v81YFGNPCRLb",
        "colab_type": "code",
        "colab": {
          "base_uri": "https://localhost:8080/",
          "height": 185
        },
        "outputId": "4816e238-9fc6-48fb-e242-45b922e15206"
      },
      "source": [
        "history=model.fit(train_aug.flow(X_train,Y_train,batch_size=32),\n",
        "                  validation_data=(X_test,Y_test),\n",
        "                  validation_steps=len(X_test)/32,\n",
        "                  steps_per_epoch=len(X_train)/32,\n",
        "                  epochs=5\n",
        ")"
      ],
      "execution_count": 46,
      "outputs": [
        {
          "output_type": "stream",
          "text": [
            "Epoch 1/5\n",
            "37/36 [==============================] - 14s 378ms/step - loss: 0.6929 - accuracy: 0.7630 - val_loss: 0.1846 - val_accuracy: 0.9310\n",
            "Epoch 2/5\n",
            "37/36 [==============================] - 13s 339ms/step - loss: 0.3184 - accuracy: 0.8676 - val_loss: 0.1827 - val_accuracy: 0.9345\n",
            "Epoch 3/5\n",
            "37/36 [==============================] - 13s 342ms/step - loss: 0.3128 - accuracy: 0.8772 - val_loss: 0.1820 - val_accuracy: 0.9448\n",
            "Epoch 4/5\n",
            "37/36 [==============================] - 12s 338ms/step - loss: 0.3182 - accuracy: 0.8875 - val_loss: 0.1744 - val_accuracy: 0.9379\n",
            "Epoch 5/5\n",
            "37/36 [==============================] - 13s 340ms/step - loss: 0.3248 - accuracy: 0.9014 - val_loss: 0.2075 - val_accuracy: 0.9379\n"
          ],
          "name": "stdout"
        }
      ]
    },
    {
      "cell_type": "code",
      "metadata": {
        "id": "VdZOGsDJC9vy",
        "colab_type": "code",
        "colab": {}
      },
      "source": [
        "y_pred=model.predict(X_test,batch_size=32)"
      ],
      "execution_count": 47,
      "outputs": []
    },
    {
      "cell_type": "code",
      "metadata": {
        "id": "2SPpz3qQImY0",
        "colab_type": "code",
        "colab": {}
      },
      "source": [
        "y_pred_bin = np.argmax(y_pred, axis=1)\n",
        "y_test_bin = np.argmax(Y_test, axis=1)"
      ],
      "execution_count": 48,
      "outputs": []
    },
    {
      "cell_type": "code",
      "metadata": {
        "id": "xbGH_WP-I62M",
        "colab_type": "code",
        "colab": {
          "base_uri": "https://localhost:8080/",
          "height": 606
        },
        "outputId": "1a6260b9-78c2-4580-c1f5-49ba6e903690"
      },
      "source": [
        "import seaborn as sns\n",
        "def plot_confusion_matrix(normalize):\n",
        "  classes = ['pneumonia','normal','COVID']\n",
        "  tick_marks = [0.5,1.5,2.5]\n",
        "  cn = confusion_matrix(y_test_bin, y_pred_bin,normalize=normalize)\n",
        "  sns.heatmap(cn,cmap='plasma',annot=True)\n",
        "  plt.xticks(tick_marks, classes)\n",
        "  plt.yticks(tick_marks, classes)\n",
        "  plt.title('Confusion Matrix')\n",
        "  plt.ylabel('True label')\n",
        "  plt.xlabel('Predicted label')\n",
        "  plt.show()\n",
        "\n",
        "print('Confusion Matrix without Normalization')\n",
        "plot_confusion_matrix(normalize=None)\n",
        "\n",
        "print('Confusion Matrix with Normalized Values')\n",
        "plot_confusion_matrix(normalize='true')"
      ],
      "execution_count": 55,
      "outputs": [
        {
          "output_type": "stream",
          "text": [
            "Confusion Matrix without Normalization\n"
          ],
          "name": "stdout"
        },
        {
          "output_type": "display_data",
          "data": {
            "image/png": "[encoded data removed]",
            "text/plain": [
              "<Figure size 432x288 with 2 Axes>"
            ]
          },
          "metadata": {
            "tags": [],
            "needs_background": "light"
          }
        },
        {
          "output_type": "stream",
          "text": [
            "Confusion Matrix with Normalized Values\n"
          ],
          "name": "stdout"
        },
        {
          "output_type": "display_data",
          "data": {
            "image/png": "[encoded data removed]",
            "text/plain": [
              "<Figure size 432x288 with 2 Axes>"
            ]
          },
          "metadata": {
            "tags": [],
            "needs_background": "light"
          }
        }
      ]
    },
    {
      "cell_type": "code",
      "metadata": {
        "id": "FBHYTEfZI-rU",
        "colab_type": "code",
        "colab": {
          "base_uri": "https://localhost:8080/",
          "height": 134
        },
        "outputId": "9b62903f-1ba1-43fe-e8c3-fed7990fd738"
      },
      "source": [
        "Y_train"
      ],
      "execution_count": 43,
      "outputs": [
        {
          "output_type": "execute_result",
          "data": {
            "text/plain": [
              "array([[0, 0, 1],\n",
              "       [0, 0, 1],\n",
              "       [0, 0, 1],\n",
              "       ...,\n",
              "       [1, 0, 0],\n",
              "       [1, 0, 0],\n",
              "       [1, 0, 0]])"
            ]
          },
          "metadata": {
            "tags": []
          },
          "execution_count": 43
        }
      ]
    },
    {
      "cell_type": "code",
      "metadata": {
        "id": "ifIAo8D4JdEb",
        "colab_type": "code",
        "colab": {}
      },
      "source": [
        ""
      ],
      "execution_count": null,
      "outputs": []
    }
  ]
}