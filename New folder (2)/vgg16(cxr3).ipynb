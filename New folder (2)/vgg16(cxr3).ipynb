{
  "nbformat": 4,
  "nbformat_minor": 0,
  "metadata": {
    "colab": {
      "name": "vgg16(cxr3).ipynb",
      "provenance": []
    },
    "kernelspec": {
      "name": "python3",
      "display_name": "Python 3"
    },
    "accelerator": "GPU"
  },
  "cells": [
    {
      "cell_type": "code",
      "metadata": {
        "id": "sZ-pmX03HxWB",
        "colab_type": "code",
        "colab": {}
      },
      "source": [
        "import os\n",
        "import shutil"
      ],
      "execution_count": 2,
      "outputs": []
    },
    {
      "cell_type": "code",
      "metadata": {
        "id": "PmqnioIJIAtm",
        "colab_type": "code",
        "colab": {}
      },
      "source": [
        "os.environ['KAGGLE_CONFIG_DIR']=\"/content\""
      ],
      "execution_count": 3,
      "outputs": []
    },
    {
      "cell_type": "code",
      "metadata": {
        "id": "4RaD92mjIDBM",
        "colab_type": "code",
        "colab": {
          "base_uri": "https://localhost:8080/",
          "height": 84
        },
        "outputId": "bbdf248d-b92d-42b8-82bd-7d6de6c57f48"
      },
      "source": [
        "!kaggle datasets download -d paultimothymooney/chest-xray-pneumonia"
      ],
      "execution_count": 4,
      "outputs": [
        {
          "output_type": "stream",
          "text": [
            "Warning: Your Kaggle API key is readable by other users on this system! To fix this, you can run 'chmod 600 /content/kaggle.json'\n",
            "Downloading chest-xray-pneumonia.zip to /content\n",
            "100% 2.29G/2.29G [00:44<00:00, 49.6MB/s]\n",
            "100% 2.29G/2.29G [00:44<00:00, 55.2MB/s]\n"
          ],
          "name": "stdout"
        }
      ]
    },
    {
      "cell_type": "code",
      "metadata": {
        "id": "d6fg3uAjII7o",
        "colab_type": "code",
        "colab": {
          "base_uri": "https://localhost:8080/",
          "height": 35
        },
        "outputId": "104e7d19-265c-4ccf-fce8-148e00477785"
      },
      "source": [
        "shutil.copy2('/content/drive/My Drive/Untitled folder/Dataset.zip','.')\n",
        "shutil.copy2('/content/drive/My Drive/Untitled folder/b2.zip','.')"
      ],
      "execution_count": 5,
      "outputs": [
        {
          "output_type": "execute_result",
          "data": {
            "application/vnd.google.colaboratory.intrinsic+json": {
              "type": "string"
            },
            "text/plain": [
              "'./b2.zip'"
            ]
          },
          "metadata": {
            "tags": []
          },
          "execution_count": 5
        }
      ]
    },
    {
      "cell_type": "code",
      "metadata": {
        "id": "dsihXTbHIOF-",
        "colab_type": "code",
        "colab": {
          "base_uri": "https://localhost:8080/",
          "height": 67
        },
        "outputId": "32d1414e-bc96-4761-89dd-42aa9f2b218d"
      },
      "source": [
        "from zipfile import ZipFile\n",
        "fname='/content/Dataset.zip'\n",
        "with ZipFile(fname,'r') as zip:\n",
        "  zip.extractall()\n",
        "  print('done')\n",
        "\n",
        "fname='/content/chest-xray-pneumonia.zip'\n",
        "with ZipFile(fname,'r') as zip:\n",
        "  zip.extractall()\n",
        "  print('done')\n",
        "\n",
        "fname='/content/b2.zip'\n",
        "with ZipFile(fname,'r') as zip:\n",
        "  zip.extractall()\n",
        "  print('done')"
      ],
      "execution_count": 6,
      "outputs": [
        {
          "output_type": "stream",
          "text": [
            "done\n",
            "done\n",
            "done\n"
          ],
          "name": "stdout"
        }
      ]
    },
    {
      "cell_type": "code",
      "metadata": {
        "id": "1kCEjygiIQgr",
        "colab_type": "code",
        "colab": {
          "base_uri": "https://localhost:8080/",
          "height": 35
        },
        "outputId": "d10c0d15-e6bc-4369-a5ef-8e17a8b40588"
      },
      "source": [
        "os.mkdir('dataset')\n",
        "shutil.move('/content/covid','dataset')\n",
        "shutil.move('/content/chest_xray/train/NORMAL','dataset')\n",
        "shutil.move('/content/b2/becteria','dataset')"
      ],
      "execution_count": 7,
      "outputs": [
        {
          "output_type": "execute_result",
          "data": {
            "application/vnd.google.colaboratory.intrinsic+json": {
              "type": "string"
            },
            "text/plain": [
              "'dataset/becteria'"
            ]
          },
          "metadata": {
            "tags": []
          },
          "execution_count": 7
        }
      ]
    },
    {
      "cell_type": "code",
      "metadata": {
        "id": "_MM1R4l0ISo7",
        "colab_type": "code",
        "colab": {}
      },
      "source": [
        "import tensorflow as tf\n",
        "from tensorflow.keras.layers import Input,Lambda,Dense,Flatten,AveragePooling2D,Dropout\n",
        "from tensorflow.keras.models import Model,load_model\n",
        "from tensorflow.keras.applications import VGG16\n",
        "\n",
        "from tensorflow.keras.preprocessing import image\n",
        "from tensorflow.keras.preprocessing.image import ImageDataGenerator\n",
        "\n",
        "from sklearn.metrics import confusion_matrix,roc_curve\n",
        "import cv2\n",
        "import numpy as np\n",
        "import matplotlib.pyplot as plt\n",
        "from glob import glob"
      ],
      "execution_count": 1,
      "outputs": []
    },
    {
      "cell_type": "code",
      "metadata": {
        "id": "pkARwObIIqcs",
        "colab_type": "code",
        "colab": {}
      },
      "source": [
        "IMAGE_SIZE=[224,224]\n",
        "\n",
        "epochs=50\n",
        "batch_size=32\n",
        "\n",
        "covid_path='/content/dataset/covid'\n",
        "normal_path='/content/dataset/NORMAL'\n",
        "pneumonia_path='/content/dataset/PNEUMONIA'\n",
        "\n",
        "covid_files=glob(covid_path+'/*')\n",
        "normal_files=glob(normal_path+'/*')\n",
        "pneumonia_files=glob(normal_path+'/*')"
      ],
      "execution_count": 2,
      "outputs": []
    },
    {
      "cell_type": "code",
      "metadata": {
        "id": "GYgK767HIyPo",
        "colab_type": "code",
        "colab": {}
      },
      "source": [
        "covid_labels=[]\n",
        "normal_labels=[]\n",
        "pneumonia_labels=[]\n",
        "\n",
        "covid_images=[]\n",
        "normal_images=[]\n",
        "pneumonia_images=[]\n",
        "\n",
        "import cv2\n",
        "for i in range(len(covid_files)):\n",
        "  image=cv2.imread(covid_files[i])\n",
        "  image=cv2.cvtColor(image,cv2.COLOR_BGR2RGB)\n",
        "  image=cv2.resize(image,(224,224))\n",
        "  covid_images.append(image)\n",
        "  covid_labels.append('covid')\n",
        "\n",
        "for i in range(700):\n",
        "  image=cv2.imread(normal_files[i])\n",
        "  image=cv2.cvtColor(image,cv2.COLOR_BGR2RGB)\n",
        "  image=cv2.resize(image,(224,224))\n",
        "  normal_images.append(image)\n",
        "  normal_labels.append('normal')\n",
        "\n",
        "for i in range(700):\n",
        "  image=cv2.imread(pneumonia_files[i])\n",
        "  image=cv2.cvtColor(image,cv2.COLOR_BGR2RGB)\n",
        "  image=cv2.resize(image,(224,224))\n",
        "  pneumonia_images.append(image)\n",
        "  pneumonia_labels.append('pneumonia')"
      ],
      "execution_count": 3,
      "outputs": []
    },
    {
      "cell_type": "code",
      "metadata": {
        "id": "_Plx6NluI7nA",
        "colab_type": "code",
        "colab": {}
      },
      "source": [
        "covid_images=np.array(covid_images)/255.0\n",
        "normal_images=np.array(normal_images)/255.0\n",
        "pneumonia_images=np.array(pneumonia_images)/255.0"
      ],
      "execution_count": 4,
      "outputs": []
    },
    {
      "cell_type": "code",
      "metadata": {
        "id": "vut7qxFvI_39",
        "colab_type": "code",
        "colab": {}
      },
      "source": [
        "from sklearn.model_selection import train_test_split\n",
        "from sklearn.preprocessing import LabelBinarizer\n",
        "from tensorflow.keras.utils import to_categorical\n",
        "\n",
        "#split to train,test\n",
        "covid_x_train,covid_x_test,covid_y_train,covid_y_test=train_test_split(covid_images,covid_labels,test_size=.2)\n",
        "normal_x_train,normal_x_test,normal_y_train,normal_y_test=train_test_split(normal_images,normal_labels,test_size=.2)\n",
        "pneumonia_x_train,pneumonia_x_test,pneumonia_y_train,pneumonia_y_test=train_test_split(pneumonia_images,pneumonia_labels,test_size=.2)\n",
        "\n",
        "X_train=np.concatenate((pneumonia_x_train,normal_x_train,covid_x_train),axis=0)\n",
        "X_test=np.concatenate((pneumonia_x_test,normal_x_test,covid_x_test),axis=0)\n",
        "Y_train=np.concatenate((pneumonia_y_train,normal_y_train,covid_y_train),axis=0)\n",
        "Y_test=np.concatenate((pneumonia_y_test,normal_y_test,covid_y_test),axis=0)"
      ],
      "execution_count": 5,
      "outputs": []
    },
    {
      "cell_type": "code",
      "metadata": {
        "id": "FtILiI1VJGm3",
        "colab_type": "code",
        "colab": {}
      },
      "source": [
        "Y_train=LabelBinarizer().fit_transform(Y_train)\n",
        "Y_test=LabelBinarizer().fit_transform(Y_test)"
      ],
      "execution_count": 6,
      "outputs": []
    },
    {
      "cell_type": "code",
      "metadata": {
        "id": "G-v4ky-1JLAv",
        "colab_type": "code",
        "colab": {}
      },
      "source": [
        "vgg16=VGG16(weights='imagenet',include_top=False,input_tensor=Input(shape=(224,224,3)))\n",
        "\n",
        "outputs=vgg16.output\n",
        "outputs=AveragePooling2D(pool_size=(4,4))(outputs)\n",
        "outputs=Dropout(.5)(outputs)\n",
        "outputs=Flatten(name='flattern')(outputs)\n",
        "outputs=Dropout(.5)(outputs)\n",
        "# outputs=Dense(32,activation='relu')(outputs)\n",
        "# outputs=Dropout(.5)(outputs)\n",
        "outputs=Dense(3,activation='softmax')(outputs)\n",
        "\n",
        "model=Model(inputs=vgg16.input,outputs=outputs)\n",
        "\n",
        "for layer in vgg16.layers:\n",
        "  layer.trainable=False\n",
        "\n",
        "INIT_LR = 0.001\n",
        "EPOCHS = 40\n",
        "BATCHSIZE = 32 \n",
        "optimizer=tf.keras.optimizers.Adam(lr=INIT_LR, decay=INIT_LR / EPOCHS)\n",
        "model.compile(\n",
        "    loss='categorical_crossentropy',\n",
        "    optimizer='adam',\n",
        "    metrics=[tf.keras.metrics.CategoricalAccuracy(), tf.keras.metrics.AUC()]\n",
        ")\n",
        "\n",
        "train_aug=ImageDataGenerator(\n",
        "    rotation_range=20,\n",
        "    width_shift_range=.2,\n",
        "    height_shift_range=.2,\n",
        "    horizontal_flip=True\n",
        ")"
      ],
      "execution_count": 23,
      "outputs": []
    },
    {
      "cell_type": "code",
      "metadata": {
        "id": "gJ1vWRf_LNE0",
        "colab_type": "code",
        "colab": {}
      },
      "source": [
        "checkpoint = tf.keras.callbacks.ModelCheckpoint('model.h5', verbose=1, monitor='val_loss',save_best_only=True, mode='auto')"
      ],
      "execution_count": 24,
      "outputs": []
    },
    {
      "cell_type": "code",
      "metadata": {
        "id": "cG6TU_BMLhOh",
        "colab_type": "code",
        "colab": {
          "base_uri": "https://localhost:8080/",
          "height": 1000
        },
        "outputId": "798a290c-b304-45d8-95ca-5db55b7440cd"
      },
      "source": [
        "history=model.fit(train_aug.flow(X_train,Y_train,batch_size=32),\n",
        "                  validation_data=(X_test,Y_test),\n",
        "                  validation_steps=len(X_test)/32,\n",
        "                  steps_per_epoch=len(X_train)/32,\n",
        "                  callbacks=[checkpoint],\n",
        "                  epochs=EPOCHS\n",
        ")"
      ],
      "execution_count": 25,
      "outputs": [
        {
          "output_type": "stream",
          "text": [
            "Epoch 1/40\n",
            "47/46 [==============================] - ETA: 0s - loss: 1.3085 - categorical_accuracy: 0.3794 - auc_4: 0.5584\n",
            "Epoch 00001: val_loss improved from inf to 1.00194, saving model to model.h5\n",
            "47/46 [==============================] - 18s 374ms/step - loss: 1.3085 - categorical_accuracy: 0.3794 - auc_4: 0.5584 - val_loss: 1.0019 - val_categorical_accuracy: 0.3703 - val_auc_4: 0.6612\n",
            "Epoch 2/40\n",
            "47/46 [==============================] - ETA: 0s - loss: 1.1272 - categorical_accuracy: 0.4309 - auc_4: 0.6019\n",
            "Epoch 00002: val_loss improved from 1.00194 to 0.95370, saving model to model.h5\n",
            "47/46 [==============================] - 17s 360ms/step - loss: 1.1272 - categorical_accuracy: 0.4309 - auc_4: 0.6019 - val_loss: 0.9537 - val_categorical_accuracy: 0.4811 - val_auc_4: 0.7171\n",
            "Epoch 3/40\n",
            "47/46 [==============================] - ETA: 0s - loss: 1.0324 - categorical_accuracy: 0.4505 - auc_4: 0.6525\n",
            "Epoch 00003: val_loss improved from 0.95370 to 0.92148, saving model to model.h5\n",
            "47/46 [==============================] - 17s 364ms/step - loss: 1.0324 - categorical_accuracy: 0.4505 - auc_4: 0.6525 - val_loss: 0.9215 - val_categorical_accuracy: 0.4838 - val_auc_4: 0.7386\n",
            "Epoch 4/40\n",
            "47/46 [==============================] - ETA: 0s - loss: 0.9720 - categorical_accuracy: 0.4810 - auc_4: 0.7028\n",
            "Epoch 00004: val_loss improved from 0.92148 to 0.89672, saving model to model.h5\n",
            "47/46 [==============================] - 17s 363ms/step - loss: 0.9720 - categorical_accuracy: 0.4810 - auc_4: 0.7028 - val_loss: 0.8967 - val_categorical_accuracy: 0.5027 - val_auc_4: 0.7471\n",
            "Epoch 5/40\n",
            "47/46 [==============================] - ETA: 0s - loss: 0.9421 - categorical_accuracy: 0.5007 - auc_4: 0.7224\n",
            "Epoch 00005: val_loss improved from 0.89672 to 0.87517, saving model to model.h5\n",
            "47/46 [==============================] - 17s 360ms/step - loss: 0.9421 - categorical_accuracy: 0.5007 - auc_4: 0.7224 - val_loss: 0.8752 - val_categorical_accuracy: 0.5081 - val_auc_4: 0.7637\n",
            "Epoch 6/40\n",
            "47/46 [==============================] - ETA: 0s - loss: 0.9219 - categorical_accuracy: 0.5210 - auc_4: 0.7365\n",
            "Epoch 00006: val_loss improved from 0.87517 to 0.85681, saving model to model.h5\n",
            "47/46 [==============================] - 17s 360ms/step - loss: 0.9219 - categorical_accuracy: 0.5210 - auc_4: 0.7365 - val_loss: 0.8568 - val_categorical_accuracy: 0.5432 - val_auc_4: 0.7752\n",
            "Epoch 7/40\n",
            "47/46 [==============================] - ETA: 0s - loss: 0.9000 - categorical_accuracy: 0.5264 - auc_4: 0.7506\n",
            "Epoch 00007: val_loss improved from 0.85681 to 0.84283, saving model to model.h5\n",
            "47/46 [==============================] - 17s 361ms/step - loss: 0.9000 - categorical_accuracy: 0.5264 - auc_4: 0.7506 - val_loss: 0.8428 - val_categorical_accuracy: 0.5351 - val_auc_4: 0.7801\n",
            "Epoch 8/40\n",
            "47/46 [==============================] - ETA: 0s - loss: 0.9084 - categorical_accuracy: 0.5156 - auc_4: 0.7413\n",
            "Epoch 00008: val_loss improved from 0.84283 to 0.83656, saving model to model.h5\n",
            "47/46 [==============================] - 17s 359ms/step - loss: 0.9084 - categorical_accuracy: 0.5156 - auc_4: 0.7413 - val_loss: 0.8366 - val_categorical_accuracy: 0.5270 - val_auc_4: 0.7776\n",
            "Epoch 9/40\n",
            "47/46 [==============================] - ETA: 0s - loss: 0.8746 - categorical_accuracy: 0.5136 - auc_4: 0.7610\n",
            "Epoch 00009: val_loss improved from 0.83656 to 0.82820, saving model to model.h5\n",
            "47/46 [==============================] - 17s 361ms/step - loss: 0.8746 - categorical_accuracy: 0.5136 - auc_4: 0.7610 - val_loss: 0.8282 - val_categorical_accuracy: 0.5162 - val_auc_4: 0.7754\n",
            "Epoch 10/40\n",
            "47/46 [==============================] - ETA: 0s - loss: 0.8734 - categorical_accuracy: 0.5203 - auc_4: 0.7600\n",
            "Epoch 00010: val_loss improved from 0.82820 to 0.81489, saving model to model.h5\n",
            "47/46 [==============================] - 17s 359ms/step - loss: 0.8734 - categorical_accuracy: 0.5203 - auc_4: 0.7600 - val_loss: 0.8149 - val_categorical_accuracy: 0.5216 - val_auc_4: 0.7861\n",
            "Epoch 11/40\n",
            "47/46 [==============================] - ETA: 0s - loss: 0.8600 - categorical_accuracy: 0.5251 - auc_4: 0.7673\n",
            "Epoch 00011: val_loss improved from 0.81489 to 0.80796, saving model to model.h5\n",
            "47/46 [==============================] - 17s 359ms/step - loss: 0.8600 - categorical_accuracy: 0.5251 - auc_4: 0.7673 - val_loss: 0.8080 - val_categorical_accuracy: 0.5324 - val_auc_4: 0.7885\n",
            "Epoch 12/40\n",
            "47/46 [==============================] - ETA: 0s - loss: 0.8557 - categorical_accuracy: 0.5156 - auc_4: 0.7648\n",
            "Epoch 00012: val_loss improved from 0.80796 to 0.80601, saving model to model.h5\n",
            "47/46 [==============================] - 17s 365ms/step - loss: 0.8557 - categorical_accuracy: 0.5156 - auc_4: 0.7648 - val_loss: 0.8060 - val_categorical_accuracy: 0.5351 - val_auc_4: 0.7827\n",
            "Epoch 13/40\n",
            "47/46 [==============================] - ETA: 0s - loss: 0.8449 - categorical_accuracy: 0.5346 - auc_4: 0.7763\n",
            "Epoch 00013: val_loss improved from 0.80601 to 0.79499, saving model to model.h5\n",
            "47/46 [==============================] - 17s 362ms/step - loss: 0.8449 - categorical_accuracy: 0.5346 - auc_4: 0.7763 - val_loss: 0.7950 - val_categorical_accuracy: 0.5108 - val_auc_4: 0.7848\n",
            "Epoch 14/40\n",
            "47/46 [==============================] - ETA: 0s - loss: 0.8532 - categorical_accuracy: 0.5332 - auc_4: 0.7696\n",
            "Epoch 00014: val_loss improved from 0.79499 to 0.78951, saving model to model.h5\n",
            "47/46 [==============================] - 17s 368ms/step - loss: 0.8532 - categorical_accuracy: 0.5332 - auc_4: 0.7696 - val_loss: 0.7895 - val_categorical_accuracy: 0.5270 - val_auc_4: 0.7870\n",
            "Epoch 15/40\n",
            "47/46 [==============================] - ETA: 0s - loss: 0.8456 - categorical_accuracy: 0.5386 - auc_4: 0.7739\n",
            "Epoch 00015: val_loss improved from 0.78951 to 0.78937, saving model to model.h5\n",
            "47/46 [==============================] - 17s 360ms/step - loss: 0.8456 - categorical_accuracy: 0.5386 - auc_4: 0.7739 - val_loss: 0.7894 - val_categorical_accuracy: 0.5432 - val_auc_4: 0.7904\n",
            "Epoch 16/40\n",
            "47/46 [==============================] - ETA: 0s - loss: 0.8230 - categorical_accuracy: 0.5515 - auc_4: 0.7865\n",
            "Epoch 00016: val_loss improved from 0.78937 to 0.78225, saving model to model.h5\n",
            "47/46 [==============================] - 17s 364ms/step - loss: 0.8230 - categorical_accuracy: 0.5515 - auc_4: 0.7865 - val_loss: 0.7822 - val_categorical_accuracy: 0.5189 - val_auc_4: 0.7886\n",
            "Epoch 17/40\n",
            "46/46 [============================>.] - ETA: 0s - loss: 0.8419 - categorical_accuracy: 0.5387 - auc_4: 0.7704\n",
            "Epoch 00017: val_loss improved from 0.78225 to 0.77541, saving model to model.h5\n",
            "47/46 [==============================] - 17s 363ms/step - loss: 0.8417 - categorical_accuracy: 0.5393 - auc_4: 0.7706 - val_loss: 0.7754 - val_categorical_accuracy: 0.5189 - val_auc_4: 0.7934\n",
            "Epoch 18/40\n",
            "47/46 [==============================] - ETA: 0s - loss: 0.8344 - categorical_accuracy: 0.5217 - auc_4: 0.7772\n",
            "Epoch 00018: val_loss did not improve from 0.77541\n",
            "47/46 [==============================] - 17s 357ms/step - loss: 0.8344 - categorical_accuracy: 0.5217 - auc_4: 0.7772 - val_loss: 0.7804 - val_categorical_accuracy: 0.5054 - val_auc_4: 0.7853\n",
            "Epoch 19/40\n",
            "47/46 [==============================] - ETA: 0s - loss: 0.8341 - categorical_accuracy: 0.5285 - auc_4: 0.7748\n",
            "Epoch 00019: val_loss improved from 0.77541 to 0.76872, saving model to model.h5\n",
            "47/46 [==============================] - 17s 361ms/step - loss: 0.8341 - categorical_accuracy: 0.5285 - auc_4: 0.7748 - val_loss: 0.7687 - val_categorical_accuracy: 0.5541 - val_auc_4: 0.7981\n",
            "Epoch 20/40\n",
            "47/46 [==============================] - ETA: 0s - loss: 0.8077 - categorical_accuracy: 0.5454 - auc_4: 0.7899\n",
            "Epoch 00020: val_loss improved from 0.76872 to 0.76563, saving model to model.h5\n",
            "47/46 [==============================] - 17s 361ms/step - loss: 0.8077 - categorical_accuracy: 0.5454 - auc_4: 0.7899 - val_loss: 0.7656 - val_categorical_accuracy: 0.5270 - val_auc_4: 0.7945\n",
            "Epoch 21/40\n",
            "47/46 [==============================] - ETA: 0s - loss: 0.8260 - categorical_accuracy: 0.5366 - auc_4: 0.7822\n",
            "Epoch 00021: val_loss improved from 0.76563 to 0.75920, saving model to model.h5\n",
            "47/46 [==============================] - 17s 361ms/step - loss: 0.8260 - categorical_accuracy: 0.5366 - auc_4: 0.7822 - val_loss: 0.7592 - val_categorical_accuracy: 0.5649 - val_auc_4: 0.8020\n",
            "Epoch 22/40\n",
            "47/46 [==============================] - ETA: 0s - loss: 0.8186 - categorical_accuracy: 0.5434 - auc_4: 0.7831\n",
            "Epoch 00022: val_loss did not improve from 0.75920\n",
            "47/46 [==============================] - 17s 357ms/step - loss: 0.8186 - categorical_accuracy: 0.5434 - auc_4: 0.7831 - val_loss: 0.7616 - val_categorical_accuracy: 0.5297 - val_auc_4: 0.7963\n",
            "Epoch 23/40\n",
            "47/46 [==============================] - ETA: 0s - loss: 0.8326 - categorical_accuracy: 0.5224 - auc_4: 0.7756\n",
            "Epoch 00023: val_loss improved from 0.75920 to 0.75470, saving model to model.h5\n",
            "47/46 [==============================] - 17s 360ms/step - loss: 0.8326 - categorical_accuracy: 0.5224 - auc_4: 0.7756 - val_loss: 0.7547 - val_categorical_accuracy: 0.5189 - val_auc_4: 0.7971\n",
            "Epoch 24/40\n",
            "47/46 [==============================] - ETA: 0s - loss: 0.8231 - categorical_accuracy: 0.5413 - auc_4: 0.7811\n",
            "Epoch 00024: val_loss improved from 0.75470 to 0.75313, saving model to model.h5\n",
            "47/46 [==============================] - 17s 361ms/step - loss: 0.8231 - categorical_accuracy: 0.5413 - auc_4: 0.7811 - val_loss: 0.7531 - val_categorical_accuracy: 0.5432 - val_auc_4: 0.8001\n",
            "Epoch 25/40\n",
            "47/46 [==============================] - ETA: 0s - loss: 0.8259 - categorical_accuracy: 0.5413 - auc_4: 0.7787\n",
            "Epoch 00025: val_loss did not improve from 0.75313\n",
            "47/46 [==============================] - 17s 354ms/step - loss: 0.8259 - categorical_accuracy: 0.5413 - auc_4: 0.7787 - val_loss: 0.7613 - val_categorical_accuracy: 0.5649 - val_auc_4: 0.7955\n",
            "Epoch 26/40\n",
            "47/46 [==============================] - ETA: 0s - loss: 0.8141 - categorical_accuracy: 0.5386 - auc_4: 0.7849\n",
            "Epoch 00026: val_loss improved from 0.75313 to 0.75032, saving model to model.h5\n",
            "47/46 [==============================] - 17s 366ms/step - loss: 0.8141 - categorical_accuracy: 0.5386 - auc_4: 0.7849 - val_loss: 0.7503 - val_categorical_accuracy: 0.5189 - val_auc_4: 0.7988\n",
            "Epoch 27/40\n",
            "47/46 [==============================] - ETA: 0s - loss: 0.8176 - categorical_accuracy: 0.5454 - auc_4: 0.7834\n",
            "Epoch 00027: val_loss improved from 0.75032 to 0.74386, saving model to model.h5\n",
            "47/46 [==============================] - 17s 362ms/step - loss: 0.8176 - categorical_accuracy: 0.5454 - auc_4: 0.7834 - val_loss: 0.7439 - val_categorical_accuracy: 0.5676 - val_auc_4: 0.8066\n",
            "Epoch 28/40\n",
            "47/46 [==============================] - ETA: 0s - loss: 0.8142 - categorical_accuracy: 0.5481 - auc_4: 0.7828\n",
            "Epoch 00028: val_loss did not improve from 0.74386\n",
            "47/46 [==============================] - 17s 357ms/step - loss: 0.8142 - categorical_accuracy: 0.5481 - auc_4: 0.7828 - val_loss: 0.7450 - val_categorical_accuracy: 0.5486 - val_auc_4: 0.8038\n",
            "Epoch 29/40\n",
            "47/46 [==============================] - ETA: 0s - loss: 0.8076 - categorical_accuracy: 0.5339 - auc_4: 0.7813\n",
            "Epoch 00029: val_loss improved from 0.74386 to 0.74218, saving model to model.h5\n",
            "47/46 [==============================] - 17s 361ms/step - loss: 0.8076 - categorical_accuracy: 0.5339 - auc_4: 0.7813 - val_loss: 0.7422 - val_categorical_accuracy: 0.5297 - val_auc_4: 0.8034\n",
            "Epoch 30/40\n",
            "47/46 [==============================] - ETA: 0s - loss: 0.7863 - categorical_accuracy: 0.5556 - auc_4: 0.8022\n",
            "Epoch 00030: val_loss improved from 0.74218 to 0.73021, saving model to model.h5\n",
            "47/46 [==============================] - 17s 363ms/step - loss: 0.7863 - categorical_accuracy: 0.5556 - auc_4: 0.8022 - val_loss: 0.7302 - val_categorical_accuracy: 0.5514 - val_auc_4: 0.8117\n",
            "Epoch 31/40\n",
            "47/46 [==============================] - ETA: 0s - loss: 0.8074 - categorical_accuracy: 0.5495 - auc_4: 0.7916\n",
            "Epoch 00031: val_loss did not improve from 0.73021\n",
            "47/46 [==============================] - 17s 360ms/step - loss: 0.8074 - categorical_accuracy: 0.5495 - auc_4: 0.7916 - val_loss: 0.7441 - val_categorical_accuracy: 0.5135 - val_auc_4: 0.7977\n",
            "Epoch 32/40\n",
            "47/46 [==============================] - ETA: 0s - loss: 0.8051 - categorical_accuracy: 0.5210 - auc_4: 0.7823\n",
            "Epoch 00032: val_loss did not improve from 0.73021\n",
            "47/46 [==============================] - 17s 356ms/step - loss: 0.8051 - categorical_accuracy: 0.5210 - auc_4: 0.7823 - val_loss: 0.7412 - val_categorical_accuracy: 0.5270 - val_auc_4: 0.7992\n",
            "Epoch 33/40\n",
            "47/46 [==============================] - ETA: 0s - loss: 0.8057 - categorical_accuracy: 0.5352 - auc_4: 0.7871\n",
            "Epoch 00033: val_loss did not improve from 0.73021\n",
            "47/46 [==============================] - 17s 358ms/step - loss: 0.8057 - categorical_accuracy: 0.5352 - auc_4: 0.7871 - val_loss: 0.7371 - val_categorical_accuracy: 0.5162 - val_auc_4: 0.7986\n",
            "Epoch 34/40\n",
            "47/46 [==============================] - ETA: 0s - loss: 0.8072 - categorical_accuracy: 0.5427 - auc_4: 0.7863\n",
            "Epoch 00034: val_loss did not improve from 0.73021\n",
            "47/46 [==============================] - 17s 367ms/step - loss: 0.8072 - categorical_accuracy: 0.5427 - auc_4: 0.7863 - val_loss: 0.7387 - val_categorical_accuracy: 0.5243 - val_auc_4: 0.8035\n",
            "Epoch 35/40\n",
            "47/46 [==============================] - ETA: 0s - loss: 0.7966 - categorical_accuracy: 0.5637 - auc_4: 0.7905\n",
            "Epoch 00035: val_loss did not improve from 0.73021\n",
            "47/46 [==============================] - 17s 362ms/step - loss: 0.7966 - categorical_accuracy: 0.5637 - auc_4: 0.7905 - val_loss: 0.7319 - val_categorical_accuracy: 0.5514 - val_auc_4: 0.8052\n",
            "Epoch 36/40\n",
            "47/46 [==============================] - ETA: 0s - loss: 0.7949 - categorical_accuracy: 0.5481 - auc_4: 0.7916\n",
            "Epoch 00036: val_loss did not improve from 0.73021\n",
            "47/46 [==============================] - 17s 362ms/step - loss: 0.7949 - categorical_accuracy: 0.5481 - auc_4: 0.7916 - val_loss: 0.7336 - val_categorical_accuracy: 0.5432 - val_auc_4: 0.8070\n",
            "Epoch 37/40\n",
            "47/46 [==============================] - ETA: 0s - loss: 0.7947 - categorical_accuracy: 0.5515 - auc_4: 0.7898\n",
            "Epoch 00037: val_loss improved from 0.73021 to 0.72832, saving model to model.h5\n",
            "47/46 [==============================] - 17s 362ms/step - loss: 0.7947 - categorical_accuracy: 0.5515 - auc_4: 0.7898 - val_loss: 0.7283 - val_categorical_accuracy: 0.5108 - val_auc_4: 0.8013\n",
            "Epoch 38/40\n",
            "47/46 [==============================] - ETA: 0s - loss: 0.8230 - categorical_accuracy: 0.5461 - auc_4: 0.7806\n",
            "Epoch 00038: val_loss did not improve from 0.72832\n",
            "47/46 [==============================] - 17s 357ms/step - loss: 0.8230 - categorical_accuracy: 0.5461 - auc_4: 0.7806 - val_loss: 0.7388 - val_categorical_accuracy: 0.4973 - val_auc_4: 0.7963\n",
            "Epoch 39/40\n",
            "47/46 [==============================] - ETA: 0s - loss: 0.7816 - categorical_accuracy: 0.5488 - auc_4: 0.7945\n",
            "Epoch 00039: val_loss did not improve from 0.72832\n",
            "47/46 [==============================] - 17s 357ms/step - loss: 0.7816 - categorical_accuracy: 0.5488 - auc_4: 0.7945 - val_loss: 0.7329 - val_categorical_accuracy: 0.5108 - val_auc_4: 0.8002\n",
            "Epoch 40/40\n",
            "47/46 [==============================] - ETA: 0s - loss: 0.7961 - categorical_accuracy: 0.5454 - auc_4: 0.7914\n",
            "Epoch 00040: val_loss improved from 0.72832 to 0.72769, saving model to model.h5\n",
            "47/46 [==============================] - 17s 364ms/step - loss: 0.7961 - categorical_accuracy: 0.5454 - auc_4: 0.7914 - val_loss: 0.7277 - val_categorical_accuracy: 0.5622 - val_auc_4: 0.8103\n"
          ],
          "name": "stdout"
        }
      ]
    },
    {
      "cell_type": "code",
      "metadata": {
        "id": "dQUM93MALq2q",
        "colab_type": "code",
        "colab": {
          "base_uri": "https://localhost:8080/",
          "height": 212
        },
        "outputId": "c55d108c-af3a-4041-fc2a-cb7c8770e10b"
      },
      "source": [
        "# del model\n",
        "del covid_x_train,covid_x_test,covid_y_train,covid_y_test\n",
        "del normal_x_train,normal_x_test,normal_y_train,normal_y_test\n",
        "del pneumonia_x_train,pneumonia_x_test,pneumonia_y_train,pneumonia_y_test"
      ],
      "execution_count": 26,
      "outputs": [
        {
          "output_type": "error",
          "ename": "NameError",
          "evalue": "ignored",
          "traceback": [
            "\u001b[0;31m---------------------------------------------------------------------------\u001b[0m",
            "\u001b[0;31mNameError\u001b[0m                                 Traceback (most recent call last)",
            "\u001b[0;32m<ipython-input-26-36aa5b9c26db>\u001b[0m in \u001b[0;36m<module>\u001b[0;34m()\u001b[0m\n\u001b[1;32m      1\u001b[0m \u001b[0;31m# del model\u001b[0m\u001b[0;34m\u001b[0m\u001b[0;34m\u001b[0m\u001b[0;34m\u001b[0m\u001b[0m\n\u001b[0;32m----> 2\u001b[0;31m \u001b[0;32mdel\u001b[0m \u001b[0mcovid_x_train\u001b[0m\u001b[0;34m,\u001b[0m\u001b[0mcovid_x_test\u001b[0m\u001b[0;34m,\u001b[0m\u001b[0mcovid_y_train\u001b[0m\u001b[0;34m,\u001b[0m\u001b[0mcovid_y_test\u001b[0m\u001b[0;34m\u001b[0m\u001b[0;34m\u001b[0m\u001b[0m\n\u001b[0m\u001b[1;32m      3\u001b[0m \u001b[0;32mdel\u001b[0m \u001b[0mnormal_x_train\u001b[0m\u001b[0;34m,\u001b[0m\u001b[0mnormal_x_test\u001b[0m\u001b[0;34m,\u001b[0m\u001b[0mnormal_y_train\u001b[0m\u001b[0;34m,\u001b[0m\u001b[0mnormal_y_test\u001b[0m\u001b[0;34m\u001b[0m\u001b[0;34m\u001b[0m\u001b[0m\n\u001b[1;32m      4\u001b[0m \u001b[0;32mdel\u001b[0m \u001b[0mpneumonia_x_train\u001b[0m\u001b[0;34m,\u001b[0m\u001b[0mpneumonia_x_test\u001b[0m\u001b[0;34m,\u001b[0m\u001b[0mpneumonia_y_train\u001b[0m\u001b[0;34m,\u001b[0m\u001b[0mpneumonia_y_test\u001b[0m\u001b[0;34m\u001b[0m\u001b[0;34m\u001b[0m\u001b[0m\n",
            "\u001b[0;31mNameError\u001b[0m: name 'covid_x_train' is not defined"
          ]
        }
      ]
    },
    {
      "cell_type": "code",
      "metadata": {
        "id": "4GmM3vtVNAQz",
        "colab_type": "code",
        "colab": {}
      },
      "source": [
        "# model=load_model('model.h5')\n",
        "y_pred=model.predict(X_test,batch_size=32)"
      ],
      "execution_count": 27,
      "outputs": []
    },
    {
      "cell_type": "code",
      "metadata": {
        "id": "osfIiAGQQ5OL",
        "colab_type": "code",
        "colab": {}
      },
      "source": [
        "y_pred_bin = np.argmax(y_pred, axis=1)\n",
        "y_test_bin = np.argmax(Y_test, axis=1)"
      ],
      "execution_count": 28,
      "outputs": []
    },
    {
      "cell_type": "code",
      "metadata": {
        "id": "Nyh372ULVLKl",
        "colab_type": "code",
        "colab": {
          "base_uri": "https://localhost:8080/",
          "height": 606
        },
        "outputId": "a88288c4-3716-48c0-b3df-820f8ad531ee"
      },
      "source": [
        "import seaborn as sns\n",
        "def plot_confusion_matrix(normalize):\n",
        "  classes = ['pnumonia','normal','covid']\n",
        "  tick_marks = [0.5,1.5,2.5]\n",
        "  cn = confusion_matrix(y_test_bin, y_pred_bin,normalize=normalize)\n",
        "  sns.heatmap(cn,cmap='plasma',annot=True)\n",
        "  plt.xticks(tick_marks, classes)\n",
        "  plt.yticks(tick_marks, classes)\n",
        "  plt.title('Confusion Matrix')\n",
        "  plt.ylabel('True label')\n",
        "  plt.xlabel('Predicted label')\n",
        "  plt.show()\n",
        "\n",
        "print('Confusion Matrix without Normalization')\n",
        "plot_confusion_matrix(normalize=None)\n",
        "\n",
        "print('Confusion Matrix with Normalized Values')\n",
        "plot_confusion_matrix(normalize='true')"
      ],
      "execution_count": 29,
      "outputs": [
        {
          "output_type": "stream",
          "text": [
            "Confusion Matrix without Normalization\n"
          ],
          "name": "stdout"
        },
        {
          "output_type": "display_data",
          "data": {
            "image/png": "[encoded data removed]",
            "text/plain": [
              "<Figure size 432x288 with 2 Axes>"
            ]
          },
          "metadata": {
            "tags": [],
            "needs_background": "light"
          }
        },
        {
          "output_type": "stream",
          "text": [
            "Confusion Matrix with Normalized Values\n"
          ],
          "name": "stdout"
        },
        {
          "output_type": "display_data",
          "data": {
            "image/png": "[encoded data removed]",
            "text/plain": [
              "<Figure size 432x288 with 2 Axes>"
            ]
          },
          "metadata": {
            "tags": [],
            "needs_background": "light"
          }
        }
      ]
    },
    {
      "cell_type": "code",
      "metadata": {
        "id": "-1WN7js1xZVW",
        "colab_type": "code",
        "colab": {}
      },
      "source": [
        ""
      ],
      "execution_count": null,
      "outputs": []
    }
  ]
}