{
  "nbformat": 4,
  "nbformat_minor": 0,
  "metadata": {
    "colab": {
      "name": "Resnet_cxr.ipynb",
      "provenance": [],
      "collapsed_sections": []
    },
    "kernelspec": {
      "name": "python3",
      "display_name": "Python 3"
    },
    "accelerator": "GPU"
  },
  "cells": [
    {
      "cell_type": "code",
      "metadata": {
        "id": "EXWzI5CMxa8M",
        "colab_type": "code",
        "colab": {}
      },
      "source": [
        "import os\n",
        "import shutil"
      ],
      "execution_count": 1,
      "outputs": []
    },
    {
      "cell_type": "code",
      "metadata": {
        "id": "nBJfxJfj0xcq",
        "colab_type": "code",
        "colab": {}
      },
      "source": [
        "os.environ['KAGGLE_CONFIG_DIR']=\"/content\""
      ],
      "execution_count": 3,
      "outputs": []
    },
    {
      "cell_type": "code",
      "metadata": {
        "id": "invLxVSN1pDG",
        "colab_type": "code",
        "colab": {
          "base_uri": "https://localhost:8080/",
          "height": 84
        },
        "outputId": "2220e143-b70f-4b5f-a653-30cfc17f447b"
      },
      "source": [
        "!kaggle datasets download -d paultimothymooney/chest-xray-pneumonia"
      ],
      "execution_count": 4,
      "outputs": [
        {
          "output_type": "stream",
          "text": [
            "Warning: Your Kaggle API key is readable by other users on this system! To fix this, you can run 'chmod 600 /content/kaggle.json'\n",
            "Downloading chest-xray-pneumonia.zip to /content\n",
            "100% 2.29G/2.29G [00:30<00:00, 48.1MB/s]\n",
            "100% 2.29G/2.29G [00:30<00:00, 80.1MB/s]\n"
          ],
          "name": "stdout"
        }
      ]
    },
    {
      "cell_type": "code",
      "metadata": {
        "id": "eMidVBDaS6uL",
        "colab_type": "code",
        "colab": {
          "base_uri": "https://localhost:8080/",
          "height": 34
        },
        "outputId": "f4ccea2d-c263-41a6-d14f-9db7bd6a1cda"
      },
      "source": [
        "from google.colab import drive\n",
        "drive.mount('/content/drive')"
      ],
      "execution_count": 5,
      "outputs": [
        {
          "output_type": "stream",
          "text": [
            "Mounted at /content/drive\n"
          ],
          "name": "stdout"
        }
      ]
    },
    {
      "cell_type": "code",
      "metadata": {
        "id": "8Ar8ExDD1v1Z",
        "colab_type": "code",
        "colab": {
          "base_uri": "https://localhost:8080/",
          "height": 35
        },
        "outputId": "5805f489-f4f8-435e-a118-41366697324e"
      },
      "source": [
        "shutil.copy2('/content/drive/My Drive/Untitled folder/Dataset.zip','.')"
      ],
      "execution_count": 6,
      "outputs": [
        {
          "output_type": "execute_result",
          "data": {
            "application/vnd.google.colaboratory.intrinsic+json": {
              "type": "string"
            },
            "text/plain": [
              "'./Dataset.zip'"
            ]
          },
          "metadata": {
            "tags": []
          },
          "execution_count": 6
        }
      ]
    },
    {
      "cell_type": "code",
      "metadata": {
        "id": "UI7PXp6v15iE",
        "colab_type": "code",
        "colab": {
          "base_uri": "https://localhost:8080/",
          "height": 50
        },
        "outputId": "203cf747-c2d4-4e60-e8e2-49dbb6340fd4"
      },
      "source": [
        "from zipfile import ZipFile\n",
        "fname='/content/Dataset.zip'\n",
        "with ZipFile(fname,'r') as zip:\n",
        "  zip.extractall()\n",
        "  print('done')\n",
        "\n",
        "fname='/content/chest-xray-pneumonia.zip'\n",
        "with ZipFile(fname,'r') as zip:\n",
        "  zip.extractall()\n",
        "  print('done')\n"
      ],
      "execution_count": 7,
      "outputs": [
        {
          "output_type": "stream",
          "text": [
            "done\n",
            "done\n"
          ],
          "name": "stdout"
        }
      ]
    },
    {
      "cell_type": "code",
      "metadata": {
        "id": "Ip8Gz5hy2K_c",
        "colab_type": "code",
        "colab": {
          "base_uri": "https://localhost:8080/",
          "height": 35
        },
        "outputId": "be26aa05-4b91-48b8-f612-915b7c33e9c1"
      },
      "source": [
        "os.mkdir('dataset')\n",
        "shutil.move('/content/covid','dataset')\n",
        "shutil.move('/content/chest_xray/train/NORMAL','dataset')\n",
        "# shutil.move('/content/chest_xray/train/PNEUMONIA','dataset')"
      ],
      "execution_count": 8,
      "outputs": [
        {
          "output_type": "execute_result",
          "data": {
            "application/vnd.google.colaboratory.intrinsic+json": {
              "type": "string"
            },
            "text/plain": [
              "'dataset/NORMAL'"
            ]
          },
          "metadata": {
            "tags": []
          },
          "execution_count": 8
        }
      ]
    },
    {
      "cell_type": "code",
      "metadata": {
        "id": "RrBuV9Cv23HZ",
        "colab_type": "code",
        "colab": {}
      },
      "source": [
        "import tensorflow as tf\n",
        "from tensorflow.keras.layers import Input,Lambda,Dense,Flatten,AveragePooling2D,Dropout\n",
        "from tensorflow.keras.models import Model,load_model\n",
        "from tensorflow.keras.applications.resnet50 import ResNet50\n",
        "from tensorflow.keras.applications.resnet50 import preprocess_input\n",
        "from tensorflow.keras.preprocessing import image\n",
        "from tensorflow.keras.preprocessing.image import ImageDataGenerator\n",
        "\n",
        "from sklearn.metrics import confusion_matrix,roc_curve\n",
        "import cv2\n",
        "import numpy as np\n",
        "import matplotlib.pyplot as plt\n",
        "from glob import glob"
      ],
      "execution_count": 9,
      "outputs": []
    },
    {
      "cell_type": "code",
      "metadata": {
        "id": "nZ2czCsB4Qpt",
        "colab_type": "code",
        "colab": {}
      },
      "source": [
        "IMGE_SIZE=[224,224]\n",
        "\n",
        "epochs=50\n",
        "batch_size=32\n",
        "\n",
        "covid_path='/content/dataset/covid'\n",
        "normal_path='/content/dataset/NORMAL'\n",
        "pneumonia_path='/content/dataset/PNEUMONIA'\n",
        "\n",
        "covid_files=glob(covid_path+'/*')\n",
        "normal_files=glob(normal_path+'/*')\n",
        "pneumonia_files=glob(normal_path+'/*')"
      ],
      "execution_count": 10,
      "outputs": []
    },
    {
      "cell_type": "code",
      "metadata": {
        "id": "5q1TZEb55OHq",
        "colab_type": "code",
        "colab": {}
      },
      "source": [
        "covid_labels=[]\n",
        "normal_labels=[]\n",
        "# pneumonia_labels=[]\n",
        "\n",
        "covid_images=[]\n",
        "normal_images=[]\n",
        "# pneumonia_images=[]\n",
        "\n",
        "import cv2\n",
        "for i in range(len(covid_files)):\n",
        "  image=cv2.imread(covid_files[i])\n",
        "  image=cv2.cvtColor(image,cv2.COLOR_BGR2RGB)\n",
        "  image=cv2.resize(image,(224,224))\n",
        "  covid_images.append(image)\n",
        "  covid_labels.append('covid')\n",
        "\n",
        "for i in range(500):\n",
        "  image=cv2.imread(normal_files[i])\n",
        "  image=cv2.cvtColor(image,cv2.COLOR_BGR2RGB)\n",
        "  image=cv2.resize(image,(224,224))\n",
        "  normal_images.append(image)\n",
        "  normal_labels.append('normal')\n",
        "\n",
        "# for i in range(500):\n",
        "#   image=cv2.imread(pneumonia_files[i])\n",
        "#   image=cv2.cvtColor(image,cv2.COLOR_BGR2RGB)\n",
        "#   image=cv2.resize(image,(224,224))\n",
        "#   pneumonia_images.append(image)\n",
        "#   pneumonia_labels.append('pneumonia')"
      ],
      "execution_count": 11,
      "outputs": []
    },
    {
      "cell_type": "code",
      "metadata": {
        "id": "DroCPn0U7CuK",
        "colab_type": "code",
        "colab": {}
      },
      "source": [
        "#normalize to (0,1)\n",
        "covid_images=np.array(covid_images)/255.0\n",
        "normal_images=np.array(normal_images)/255.0\n",
        "# pneumonia_images=np.array(pneumonia_images)/255.0"
      ],
      "execution_count": 12,
      "outputs": []
    },
    {
      "cell_type": "code",
      "metadata": {
        "id": "CZxX5UdS7wVd",
        "colab_type": "code",
        "colab": {}
      },
      "source": [
        "from sklearn.model_selection import train_test_split\n",
        "from sklearn.preprocessing import LabelBinarizer\n",
        "from tensorflow.keras.utils import to_categorical\n",
        "\n",
        "#split to train,test\n",
        "covid_x_train,covid_x_test,covid_y_train,covid_y_test=train_test_split(covid_images,covid_labels,test_size=.2)\n",
        "normal_x_train,normal_x_test,normal_y_train,normal_y_test=train_test_split(normal_images,normal_labels,test_size=.2)\n",
        "# pneumonia_x_train,pneumonia_x_test,pneumonia_y_train,pneumonia_y_test=train_test_split(pneumonia_images,pneumonia_labels,test_size=.2)\n",
        "\n",
        "# X_train=np.concatenate((pneumonia_x_train,normal_x_train,covid_x_train),axis=0)\n",
        "# X_test=np.concatenate((pneumonia_x_test,normal_x_test,covid_x_test),axis=0)\n",
        "# Y_train=np.concatenate((pneumonia_y_train,normal_y_train,covid_y_train),axis=0)\n",
        "# Y_test=np.concatenate((pneumonia_y_test,normal_y_test,covid_y_test),axis=0)\n",
        "\n",
        "\n",
        "X_train=np.concatenate((normal_x_train,covid_x_train),axis=0)\n",
        "X_test=np.concatenate((normal_x_test,covid_x_test),axis=0)\n",
        "Y_train=np.concatenate((normal_y_train,covid_y_train),axis=0)\n",
        "Y_test=np.concatenate((normal_y_test,covid_y_test),axis=0)"
      ],
      "execution_count": 13,
      "outputs": []
    },
    {
      "cell_type": "code",
      "metadata": {
        "id": "xEhLHqvk-wjn",
        "colab_type": "code",
        "colab": {}
      },
      "source": [
        "# make labels imto categories 0 or 1\n",
        "Y_train=LabelBinarizer().fit_transform(Y_train)\n",
        "Y_train=to_categorical(Y_train)\n",
        "\n",
        "Y_test=LabelBinarizer().fit_transform(Y_test)\n",
        "Y_test=to_categorical(Y_test)"
      ],
      "execution_count": 14,
      "outputs": []
    },
    {
      "cell_type": "code",
      "metadata": {
        "id": "D7Pf_g3ZANKy",
        "colab_type": "code",
        "colab": {}
      },
      "source": [
        "res=ResNet50(weights='imagenet',include_top=False,input_tensor=Input(shape=(224,224,3)))\n",
        "\n",
        "outputs=res.output\n",
        "outputs=Flatten(name='flattern')(outputs)\n",
        "outputs=Dropout(.5)(outputs)\n",
        "outputs=Dense(2,activation='softmax')(outputs)\n",
        "\n",
        "model=Model(inputs=res.input,outputs=outputs)\n",
        "\n",
        "for layer in res.layers:\n",
        "  layer.trainable=False\n",
        "\n",
        "model.compile(\n",
        "    loss='categorical_crossentropy',\n",
        "    optimizer='adam',\n",
        "    metrics=['accuracy']\n",
        ")\n",
        "\n",
        "train_aug=ImageDataGenerator(\n",
        "    rotation_range=20,\n",
        "    width_shift_range=.2,\n",
        "    height_shift_range=.2,\n",
        "    horizontal_flip=True\n",
        ")"
      ],
      "execution_count": 23,
      "outputs": []
    },
    {
      "cell_type": "code",
      "metadata": {
        "id": "O0hNNUhFWdU8",
        "colab_type": "code",
        "colab": {}
      },
      "source": [
        "checkpoint = tf.keras.callbacks.ModelCheckpoint('model.h5', verbose=1, monitor='val_loss',save_best_only=True, mode='auto')\n",
        "tb=tf.keras.callbacks.TensorBoard(log_dir='.')"
      ],
      "execution_count": 28,
      "outputs": []
    },
    {
      "cell_type": "code",
      "metadata": {
        "id": "v81YFGNPCRLb",
        "colab_type": "code",
        "colab": {
          "base_uri": "https://localhost:8080/",
          "height": 1000
        },
        "outputId": "81113904-dbf5-4a22-db43-eb6224bc1f1a"
      },
      "source": [
        "history=model.fit(train_aug.flow(X_train,Y_train,batch_size=32),\n",
        "                  validation_data=(X_test,Y_test),\n",
        "                  validation_steps=len(X_test)/32,\n",
        "                  steps_per_epoch=len(X_train)/32,\n",
        "                  callbacks=[checkpoint,tb],\n",
        "                  epochs=50\n",
        ")"
      ],
      "execution_count": 29,
      "outputs": [
        {
          "output_type": "stream",
          "text": [
            "Epoch 1/50\n",
            "24/23 [==============================] - ETA: 0s - loss: 0.3871 - accuracy: 0.8585\n",
            "Epoch 00001: val_loss improved from inf to 0.25782, saving model to model.h5\n",
            "24/23 [==============================] - 11s 443ms/step - loss: 0.3871 - accuracy: 0.8585 - val_loss: 0.2578 - val_accuracy: 0.9158\n",
            "Epoch 2/50\n",
            "24/23 [==============================] - ETA: 0s - loss: 0.3562 - accuracy: 0.8532\n",
            "Epoch 00002: val_loss did not improve from 0.25782\n",
            "24/23 [==============================] - 10s 408ms/step - loss: 0.3562 - accuracy: 0.8532 - val_loss: 0.2596 - val_accuracy: 0.9211\n",
            "Epoch 3/50\n",
            "24/23 [==============================] - ETA: 0s - loss: 0.3651 - accuracy: 0.8638\n",
            "Epoch 00003: val_loss did not improve from 0.25782\n",
            "24/23 [==============================] - 10s 412ms/step - loss: 0.3651 - accuracy: 0.8638 - val_loss: 0.2778 - val_accuracy: 0.9053\n",
            "Epoch 4/50\n",
            "24/23 [==============================] - ETA: 0s - loss: 0.3484 - accuracy: 0.8677\n",
            "Epoch 00004: val_loss improved from 0.25782 to 0.18801, saving model to model.h5\n",
            "24/23 [==============================] - 10s 426ms/step - loss: 0.3484 - accuracy: 0.8677 - val_loss: 0.1880 - val_accuracy: 0.9526\n",
            "Epoch 5/50\n",
            "24/23 [==============================] - ETA: 0s - loss: 0.3265 - accuracy: 0.8770\n",
            "Epoch 00005: val_loss did not improve from 0.18801\n",
            "24/23 [==============================] - 10s 406ms/step - loss: 0.3265 - accuracy: 0.8770 - val_loss: 0.2023 - val_accuracy: 0.9421\n",
            "Epoch 6/50\n",
            "24/23 [==============================] - ETA: 0s - loss: 0.3825 - accuracy: 0.8611\n",
            "Epoch 00006: val_loss improved from 0.18801 to 0.17696, saving model to model.h5\n",
            "24/23 [==============================] - 10s 425ms/step - loss: 0.3825 - accuracy: 0.8611 - val_loss: 0.1770 - val_accuracy: 0.9632\n",
            "Epoch 7/50\n",
            "24/23 [==============================] - ETA: 0s - loss: 0.3430 - accuracy: 0.8796\n",
            "Epoch 00007: val_loss improved from 0.17696 to 0.16811, saving model to model.h5\n",
            "24/23 [==============================] - 10s 426ms/step - loss: 0.3430 - accuracy: 0.8796 - val_loss: 0.1681 - val_accuracy: 0.9632\n",
            "Epoch 8/50\n",
            "24/23 [==============================] - ETA: 0s - loss: 0.3410 - accuracy: 0.8730\n",
            "Epoch 00008: val_loss did not improve from 0.16811\n",
            "24/23 [==============================] - 10s 411ms/step - loss: 0.3410 - accuracy: 0.8730 - val_loss: 0.3092 - val_accuracy: 0.9000\n",
            "Epoch 9/50\n",
            "24/23 [==============================] - ETA: 0s - loss: 0.3305 - accuracy: 0.8624\n",
            "Epoch 00009: val_loss improved from 0.16811 to 0.16715, saving model to model.h5\n",
            "24/23 [==============================] - 10s 428ms/step - loss: 0.3305 - accuracy: 0.8624 - val_loss: 0.1672 - val_accuracy: 0.9632\n",
            "Epoch 10/50\n",
            "24/23 [==============================] - ETA: 0s - loss: 0.3048 - accuracy: 0.8995\n",
            "Epoch 00010: val_loss improved from 0.16715 to 0.15393, saving model to model.h5\n",
            "24/23 [==============================] - 10s 429ms/step - loss: 0.3048 - accuracy: 0.8995 - val_loss: 0.1539 - val_accuracy: 0.9684\n",
            "Epoch 11/50\n",
            "24/23 [==============================] - ETA: 0s - loss: 0.2845 - accuracy: 0.8823\n",
            "Epoch 00011: val_loss did not improve from 0.15393\n",
            "24/23 [==============================] - 10s 405ms/step - loss: 0.2845 - accuracy: 0.8823 - val_loss: 0.1678 - val_accuracy: 0.9526\n",
            "Epoch 12/50\n",
            "24/23 [==============================] - ETA: 0s - loss: 0.3460 - accuracy: 0.8823\n",
            "Epoch 00012: val_loss did not improve from 0.15393\n",
            "24/23 [==============================] - 10s 403ms/step - loss: 0.3460 - accuracy: 0.8823 - val_loss: 0.1812 - val_accuracy: 0.9474\n",
            "Epoch 13/50\n",
            "24/23 [==============================] - ETA: 0s - loss: 0.3618 - accuracy: 0.8810\n",
            "Epoch 00013: val_loss improved from 0.15393 to 0.14314, saving model to model.h5\n",
            "24/23 [==============================] - 10s 428ms/step - loss: 0.3618 - accuracy: 0.8810 - val_loss: 0.1431 - val_accuracy: 0.9632\n",
            "Epoch 14/50\n",
            "24/23 [==============================] - ETA: 0s - loss: 0.3755 - accuracy: 0.8849\n",
            "Epoch 00014: val_loss improved from 0.14314 to 0.14198, saving model to model.h5\n",
            "24/23 [==============================] - 10s 428ms/step - loss: 0.3755 - accuracy: 0.8849 - val_loss: 0.1420 - val_accuracy: 0.9684\n",
            "Epoch 15/50\n",
            "24/23 [==============================] - ETA: 0s - loss: 0.2846 - accuracy: 0.9021\n",
            "Epoch 00015: val_loss did not improve from 0.14198\n",
            "24/23 [==============================] - 10s 405ms/step - loss: 0.2846 - accuracy: 0.9021 - val_loss: 0.1429 - val_accuracy: 0.9632\n",
            "Epoch 16/50\n",
            "24/23 [==============================] - ETA: 0s - loss: 0.3102 - accuracy: 0.8915\n",
            "Epoch 00016: val_loss did not improve from 0.14198\n",
            "24/23 [==============================] - 10s 406ms/step - loss: 0.3102 - accuracy: 0.8915 - val_loss: 0.1439 - val_accuracy: 0.9632\n",
            "Epoch 17/50\n",
            "24/23 [==============================] - ETA: 0s - loss: 0.3040 - accuracy: 0.8981\n",
            "Epoch 00017: val_loss did not improve from 0.14198\n",
            "24/23 [==============================] - 10s 406ms/step - loss: 0.3040 - accuracy: 0.8981 - val_loss: 0.2268 - val_accuracy: 0.9211\n",
            "Epoch 18/50\n",
            "24/23 [==============================] - ETA: 0s - loss: 0.3743 - accuracy: 0.8889\n",
            "Epoch 00018: val_loss did not improve from 0.14198\n",
            "24/23 [==============================] - 10s 406ms/step - loss: 0.3743 - accuracy: 0.8889 - val_loss: 0.3552 - val_accuracy: 0.8737\n",
            "Epoch 19/50\n",
            "24/23 [==============================] - ETA: 0s - loss: 0.6895 - accuracy: 0.7857\n",
            "Epoch 00019: val_loss did not improve from 0.14198\n",
            "24/23 [==============================] - 10s 407ms/step - loss: 0.6895 - accuracy: 0.7857 - val_loss: 0.1897 - val_accuracy: 0.9421\n",
            "Epoch 20/50\n",
            "24/23 [==============================] - ETA: 0s - loss: 0.3392 - accuracy: 0.8968\n",
            "Epoch 00020: val_loss did not improve from 0.14198\n",
            "24/23 [==============================] - 10s 406ms/step - loss: 0.3392 - accuracy: 0.8968 - val_loss: 0.3154 - val_accuracy: 0.9000\n",
            "Epoch 21/50\n",
            "24/23 [==============================] - ETA: 0s - loss: 0.4587 - accuracy: 0.8611\n",
            "Epoch 00021: val_loss did not improve from 0.14198\n",
            "24/23 [==============================] - 10s 404ms/step - loss: 0.4587 - accuracy: 0.8611 - val_loss: 0.1656 - val_accuracy: 0.9579\n",
            "Epoch 22/50\n",
            "24/23 [==============================] - ETA: 0s - loss: 0.3649 - accuracy: 0.8876\n",
            "Epoch 00022: val_loss did not improve from 0.14198\n",
            "24/23 [==============================] - 10s 404ms/step - loss: 0.3649 - accuracy: 0.8876 - val_loss: 0.2825 - val_accuracy: 0.9158\n",
            "Epoch 23/50\n",
            "24/23 [==============================] - ETA: 0s - loss: 0.6148 - accuracy: 0.8280\n",
            "Epoch 00023: val_loss did not improve from 0.14198\n",
            "24/23 [==============================] - 10s 406ms/step - loss: 0.6148 - accuracy: 0.8280 - val_loss: 0.2441 - val_accuracy: 0.9474\n",
            "Epoch 24/50\n",
            "24/23 [==============================] - ETA: 0s - loss: 0.3490 - accuracy: 0.8876\n",
            "Epoch 00024: val_loss did not improve from 0.14198\n",
            "24/23 [==============================] - 10s 407ms/step - loss: 0.3490 - accuracy: 0.8876 - val_loss: 0.1667 - val_accuracy: 0.9579\n",
            "Epoch 25/50\n",
            "24/23 [==============================] - ETA: 0s - loss: 0.3154 - accuracy: 0.9074\n",
            "Epoch 00025: val_loss improved from 0.14198 to 0.13838, saving model to model.h5\n",
            "24/23 [==============================] - 10s 429ms/step - loss: 0.3154 - accuracy: 0.9074 - val_loss: 0.1384 - val_accuracy: 0.9684\n",
            "Epoch 26/50\n",
            "24/23 [==============================] - ETA: 0s - loss: 0.5656 - accuracy: 0.8320\n",
            "Epoch 00026: val_loss did not improve from 0.13838\n",
            "24/23 [==============================] - 10s 407ms/step - loss: 0.5656 - accuracy: 0.8320 - val_loss: 0.2301 - val_accuracy: 0.9474\n",
            "Epoch 27/50\n",
            "24/23 [==============================] - ETA: 0s - loss: 0.5644 - accuracy: 0.8532\n",
            "Epoch 00027: val_loss did not improve from 0.13838\n",
            "24/23 [==============================] - 10s 407ms/step - loss: 0.5644 - accuracy: 0.8532 - val_loss: 0.1809 - val_accuracy: 0.9632\n",
            "Epoch 28/50\n",
            "24/23 [==============================] - ETA: 0s - loss: 0.3294 - accuracy: 0.9034\n",
            "Epoch 00028: val_loss did not improve from 0.13838\n",
            "24/23 [==============================] - 10s 407ms/step - loss: 0.3294 - accuracy: 0.9034 - val_loss: 0.1700 - val_accuracy: 0.9579\n",
            "Epoch 29/50\n",
            "24/23 [==============================] - ETA: 0s - loss: 0.2777 - accuracy: 0.9233\n",
            "Epoch 00029: val_loss did not improve from 0.13838\n",
            "24/23 [==============================] - 10s 406ms/step - loss: 0.2777 - accuracy: 0.9233 - val_loss: 0.2863 - val_accuracy: 0.9316\n",
            "Epoch 30/50\n",
            "24/23 [==============================] - ETA: 0s - loss: 0.5171 - accuracy: 0.8624\n",
            "Epoch 00030: val_loss did not improve from 0.13838\n",
            "24/23 [==============================] - 10s 409ms/step - loss: 0.5171 - accuracy: 0.8624 - val_loss: 0.3076 - val_accuracy: 0.9211\n",
            "Epoch 31/50\n",
            "24/23 [==============================] - ETA: 0s - loss: 0.5487 - accuracy: 0.8690\n",
            "Epoch 00031: val_loss did not improve from 0.13838\n",
            "24/23 [==============================] - 10s 416ms/step - loss: 0.5487 - accuracy: 0.8690 - val_loss: 0.1430 - val_accuracy: 0.9737\n",
            "Epoch 32/50\n",
            "24/23 [==============================] - ETA: 0s - loss: 0.3536 - accuracy: 0.9167\n",
            "Epoch 00032: val_loss did not improve from 0.13838\n",
            "24/23 [==============================] - 10s 421ms/step - loss: 0.3536 - accuracy: 0.9167 - val_loss: 0.1498 - val_accuracy: 0.9579\n",
            "Epoch 33/50\n",
            "24/23 [==============================] - ETA: 0s - loss: 0.3005 - accuracy: 0.8942\n",
            "Epoch 00033: val_loss improved from 0.13838 to 0.12975, saving model to model.h5\n",
            "24/23 [==============================] - 10s 433ms/step - loss: 0.3005 - accuracy: 0.8942 - val_loss: 0.1298 - val_accuracy: 0.9632\n",
            "Epoch 34/50\n",
            "24/23 [==============================] - ETA: 0s - loss: 0.3240 - accuracy: 0.9061\n",
            "Epoch 00034: val_loss did not improve from 0.12975\n",
            "24/23 [==============================] - 10s 408ms/step - loss: 0.3240 - accuracy: 0.9061 - val_loss: 0.1986 - val_accuracy: 0.9474\n",
            "Epoch 35/50\n",
            "24/23 [==============================] - ETA: 0s - loss: 0.3016 - accuracy: 0.9127\n",
            "Epoch 00035: val_loss did not improve from 0.12975\n",
            "24/23 [==============================] - 10s 408ms/step - loss: 0.3016 - accuracy: 0.9127 - val_loss: 0.1397 - val_accuracy: 0.9526\n",
            "Epoch 36/50\n",
            "24/23 [==============================] - ETA: 0s - loss: 0.4244 - accuracy: 0.8836\n",
            "Epoch 00036: val_loss did not improve from 0.12975\n",
            "24/23 [==============================] - 10s 407ms/step - loss: 0.4244 - accuracy: 0.8836 - val_loss: 0.1749 - val_accuracy: 0.9474\n",
            "Epoch 37/50\n",
            "24/23 [==============================] - ETA: 0s - loss: 0.3771 - accuracy: 0.8915\n",
            "Epoch 00037: val_loss improved from 0.12975 to 0.09536, saving model to model.h5\n",
            "24/23 [==============================] - 10s 432ms/step - loss: 0.3771 - accuracy: 0.8915 - val_loss: 0.0954 - val_accuracy: 0.9737\n",
            "Epoch 38/50\n",
            "24/23 [==============================] - ETA: 0s - loss: 0.3310 - accuracy: 0.8955\n",
            "Epoch 00038: val_loss did not improve from 0.09536\n",
            "24/23 [==============================] - 10s 409ms/step - loss: 0.3310 - accuracy: 0.8955 - val_loss: 0.1564 - val_accuracy: 0.9526\n",
            "Epoch 39/50\n",
            "24/23 [==============================] - ETA: 0s - loss: 0.3463 - accuracy: 0.8915\n",
            "Epoch 00039: val_loss improved from 0.09536 to 0.08858, saving model to model.h5\n",
            "24/23 [==============================] - 10s 434ms/step - loss: 0.3463 - accuracy: 0.8915 - val_loss: 0.0886 - val_accuracy: 0.9737\n",
            "Epoch 40/50\n",
            "24/23 [==============================] - ETA: 0s - loss: 0.4584 - accuracy: 0.8757\n",
            "Epoch 00040: val_loss did not improve from 0.08858\n",
            "24/23 [==============================] - 10s 409ms/step - loss: 0.4584 - accuracy: 0.8757 - val_loss: 0.1600 - val_accuracy: 0.9526\n",
            "Epoch 41/50\n",
            "24/23 [==============================] - ETA: 0s - loss: 0.3408 - accuracy: 0.8929\n",
            "Epoch 00041: val_loss did not improve from 0.08858\n",
            "24/23 [==============================] - 10s 411ms/step - loss: 0.3408 - accuracy: 0.8929 - val_loss: 0.1205 - val_accuracy: 0.9579\n",
            "Epoch 42/50\n",
            "24/23 [==============================] - ETA: 0s - loss: 0.3899 - accuracy: 0.8915\n",
            "Epoch 00042: val_loss did not improve from 0.08858\n",
            "24/23 [==============================] - 10s 409ms/step - loss: 0.3899 - accuracy: 0.8915 - val_loss: 0.2532 - val_accuracy: 0.9211\n",
            "Epoch 43/50\n",
            "24/23 [==============================] - ETA: 0s - loss: 0.3165 - accuracy: 0.9008\n",
            "Epoch 00043: val_loss did not improve from 0.08858\n",
            "24/23 [==============================] - 10s 408ms/step - loss: 0.3165 - accuracy: 0.9008 - val_loss: 0.1240 - val_accuracy: 0.9526\n",
            "Epoch 44/50\n",
            "24/23 [==============================] - ETA: 0s - loss: 0.3222 - accuracy: 0.8929\n",
            "Epoch 00044: val_loss improved from 0.08858 to 0.08302, saving model to model.h5\n",
            "24/23 [==============================] - 10s 434ms/step - loss: 0.3222 - accuracy: 0.8929 - val_loss: 0.0830 - val_accuracy: 0.9737\n",
            "Epoch 45/50\n",
            "24/23 [==============================] - ETA: 0s - loss: 0.2849 - accuracy: 0.9272\n",
            "Epoch 00045: val_loss did not improve from 0.08302\n",
            "24/23 [==============================] - 10s 412ms/step - loss: 0.2849 - accuracy: 0.9272 - val_loss: 0.1738 - val_accuracy: 0.9474\n",
            "Epoch 46/50\n",
            "24/23 [==============================] - ETA: 0s - loss: 0.2622 - accuracy: 0.9272\n",
            "Epoch 00046: val_loss did not improve from 0.08302\n",
            "24/23 [==============================] - 10s 409ms/step - loss: 0.2622 - accuracy: 0.9272 - val_loss: 0.0851 - val_accuracy: 0.9684\n",
            "Epoch 47/50\n",
            "24/23 [==============================] - ETA: 0s - loss: 0.2376 - accuracy: 0.9272\n",
            "Epoch 00047: val_loss improved from 0.08302 to 0.07528, saving model to model.h5\n",
            "24/23 [==============================] - 10s 432ms/step - loss: 0.2376 - accuracy: 0.9272 - val_loss: 0.0753 - val_accuracy: 0.9789\n",
            "Epoch 48/50\n",
            "24/23 [==============================] - ETA: 0s - loss: 0.3469 - accuracy: 0.8995\n",
            "Epoch 00048: val_loss did not improve from 0.07528\n",
            "24/23 [==============================] - 10s 410ms/step - loss: 0.3469 - accuracy: 0.8995 - val_loss: 0.0830 - val_accuracy: 0.9684\n",
            "Epoch 49/50\n",
            "24/23 [==============================] - ETA: 0s - loss: 0.2784 - accuracy: 0.9220\n",
            "Epoch 00049: val_loss improved from 0.07528 to 0.06383, saving model to model.h5\n",
            "24/23 [==============================] - 10s 431ms/step - loss: 0.2784 - accuracy: 0.9220 - val_loss: 0.0638 - val_accuracy: 0.9789\n",
            "Epoch 50/50\n",
            "24/23 [==============================] - ETA: 0s - loss: 0.4116 - accuracy: 0.8810\n",
            "Epoch 00050: val_loss did not improve from 0.06383\n",
            "24/23 [==============================] - 10s 408ms/step - loss: 0.4116 - accuracy: 0.8810 - val_loss: 0.1510 - val_accuracy: 0.9526\n"
          ],
          "name": "stdout"
        }
      ]
    },
    {
      "cell_type": "code",
      "metadata": {
        "id": "GLCbl1BWZrac",
        "colab_type": "code",
        "colab": {}
      },
      "source": [
        "#load saved model\n",
        "model=load_model('/content/resnet_cxr.h5')"
      ],
      "execution_count": 34,
      "outputs": []
    },
    {
      "cell_type": "code",
      "metadata": {
        "id": "VdZOGsDJC9vy",
        "colab_type": "code",
        "colab": {}
      },
      "source": [
        "y_pred=model.predict(X_test,batch_size=32)"
      ],
      "execution_count": 35,
      "outputs": []
    },
    {
      "cell_type": "code",
      "metadata": {
        "id": "2SPpz3qQImY0",
        "colab_type": "code",
        "colab": {}
      },
      "source": [
        "y_pred_bin = np.argmax(y_pred, axis=1)\n",
        "y_test_bin = np.argmax(Y_test, axis=1)"
      ],
      "execution_count": 36,
      "outputs": []
    },
    {
      "cell_type": "code",
      "metadata": {
        "id": "xbGH_WP-I62M",
        "colab_type": "code",
        "colab": {
          "base_uri": "https://localhost:8080/",
          "height": 606
        },
        "outputId": "53f2c661-4539-45dd-f934-4f1a2fb8727d"
      },
      "source": [
        "import seaborn as sns\n",
        "def plot_confusion_matrix(normalize):\n",
        "  classes = ['COVID','NonCOVID']\n",
        "  tick_marks = [0.5,1.5]\n",
        "  cn = confusion_matrix(y_test_bin, y_pred_bin,normalize=normalize)\n",
        "  sns.heatmap(cn,cmap='plasma',annot=True)\n",
        "  plt.xticks(tick_marks, classes)\n",
        "  plt.yticks(tick_marks, classes)\n",
        "  plt.title('Confusion Matrix')\n",
        "  plt.ylabel('True label')\n",
        "  plt.xlabel('Predicted label')\n",
        "  plt.show()\n",
        "\n",
        "print('Confusion Matrix without Normalization')\n",
        "plot_confusion_matrix(normalize=None)\n",
        "\n",
        "print('Confusion Matrix with Normalized Values')\n",
        "plot_confusion_matrix(normalize='true')"
      ],
      "execution_count": 37,
      "outputs": [
        {
          "output_type": "stream",
          "text": [
            "Confusion Matrix without Normalization\n"
          ],
          "name": "stdout"
        },
        {
          "output_type": "display_data",
          "data": {
            "image/png": "[encoded data removed]",
            "text/plain": [
              "<Figure size 432x288 with 2 Axes>"
            ]
          },
          "metadata": {
            "tags": [],
            "needs_background": "light"
          }
        },
        {
          "output_type": "stream",
          "text": [
            "Confusion Matrix with Normalized Values\n"
          ],
          "name": "stdout"
        },
        {
          "output_type": "display_data",
          "data": {
            "image/png": "[encoded data removed]",
            "text/plain": [
              "<Figure size 432x288 with 2 Axes>"
            ]
          },
          "metadata": {
            "tags": [],
            "needs_background": "light"
          }
        }
      ]
    },
    {
      "cell_type": "markdown",
      "metadata": {
        "id": "ZA82jbXva3xl",
        "colab_type": "text"
      },
      "source": [
        "##Roc curve"
      ]
    },
    {
      "cell_type": "code",
      "metadata": {
        "id": "FBHYTEfZI-rU",
        "colab_type": "code",
        "colab": {
          "base_uri": "https://localhost:8080/",
          "height": 296
        },
        "outputId": "5f96c126-7563-4e92-9d89-2b7811f89e39"
      },
      "source": [
        "fpr, tpr, thresholds = roc_curve(y_test_bin, y_pred_bin)\n",
        "plt.plot(fpr, tpr)\n",
        "plt.xlim([0.0, 1.0])\n",
        "plt.ylim([0.0, 1.0])\n",
        "plt.rcParams['font.size'] = 12\n",
        "plt.title('ROC curve for our model')\n",
        "plt.xlabel('False Positive Rate')\n",
        "plt.ylabel('True Positive Rate')\n",
        "plt.grid(True)"
      ],
      "execution_count": 38,
      "outputs": [
        {
          "output_type": "display_data",
          "data": {
            "image/png": "[encoded data removed]",
            "text/plain": [
              "<Figure size 432x288 with 1 Axes>"
            ]
          },
          "metadata": {
            "tags": [],
            "needs_background": "light"
          }
        }
      ]
    },
    {
      "cell_type": "markdown",
      "metadata": {
        "id": "m5OzDBiPa76q",
        "colab_type": "text"
      },
      "source": [
        "##Classification Report"
      ]
    },
    {
      "cell_type": "code",
      "metadata": {
        "id": "ifIAo8D4JdEb",
        "colab_type": "code",
        "colab": {
          "base_uri": "https://localhost:8080/",
          "height": 168
        },
        "outputId": "cef953a8-4cd7-4352-f25f-d6ae4279ecf2"
      },
      "source": [
        "from sklearn.metrics import classification_report\n",
        "print(classification_report(y_test_bin, y_pred_bin))"
      ],
      "execution_count": 39,
      "outputs": [
        {
          "output_type": "stream",
          "text": [
            "              precision    recall  f1-score   support\n",
            "\n",
            "           0       0.98      0.98      0.98        90\n",
            "           1       0.98      0.98      0.98       100\n",
            "\n",
            "    accuracy                           0.98       190\n",
            "   macro avg       0.98      0.98      0.98       190\n",
            "weighted avg       0.98      0.98      0.98       190\n",
            "\n"
          ],
          "name": "stdout"
        }
      ]
    },
    {
      "cell_type": "markdown",
      "metadata": {
        "id": "0YnwofWzbI9D",
        "colab_type": "text"
      },
      "source": [
        "##Accuracy and Loss plots"
      ]
    },
    {
      "cell_type": "code",
      "metadata": {
        "id": "XA_wqe6mWWNZ",
        "colab_type": "code",
        "colab": {
          "base_uri": "https://localhost:8080/",
          "height": 629
        },
        "outputId": "a9b4ee23-2a98-4eae-d2f3-68e5c3811e98"
      },
      "source": [
        "plt.figure(figsize=(10,10))\n",
        "\n",
        "plt.plot(history.history['accuracy'])\n",
        "plt.plot(history.history['val_accuracy'])\n",
        "\n",
        "plt.title('Model Accuracy')\n",
        "plt.ylabel('Accuracy')\n",
        "plt.xlabel('Epoch')\n",
        "\n",
        "plt.legend(['Training', 'Testing'])\n",
        "plt.savefig('vgg_chest_accuracy.png')\n",
        "plt.show()"
      ],
      "execution_count": 40,
      "outputs": [
        {
          "output_type": "display_data",
          "data": {
            "image/png": "[encoded data removed]",
            "text/plain": [
              "<Figure size 720x720 with 1 Axes>"
            ]
          },
          "metadata": {
            "tags": [],
            "needs_background": "light"
          }
        }
      ]
    },
    {
      "cell_type": "code",
      "metadata": {
        "id": "KFYJhpZnbA9b",
        "colab_type": "code",
        "colab": {
          "base_uri": "https://localhost:8080/",
          "height": 35
        },
        "outputId": "f996f790-f4c1-4ed8-87aa-da2ceb75c836"
      },
      "source": [
        "shutil.copy2('/content/resnet_cxr.h5','/content/drive/My Drive/Untitled folder')"
      ],
      "execution_count": 41,
      "outputs": [
        {
          "output_type": "execute_result",
          "data": {
            "application/vnd.google.colaboratory.intrinsic+json": {
              "type": "string"
            },
            "text/plain": [
              "'/content/drive/My Drive/Untitled folder/resnet_cxr.h5'"
            ]
          },
          "metadata": {
            "tags": []
          },
          "execution_count": 41
        }
      ]
    }
  ]
}