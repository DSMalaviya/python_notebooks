{
  "nbformat": 4,
  "nbformat_minor": 0,
  "metadata": {
    "colab": {
      "name": "project1(Building Model).ipynb",
      "provenance": [],
      "collapsed_sections": []
    },
    "kernelspec": {
      "name": "python3",
      "display_name": "Python 3"
    },
    "accelerator": "GPU"
  },
  "cells": [
    {
      "cell_type": "markdown",
      "metadata": {
        "id": "1zwo2Z7RvKoh",
        "colab_type": "text"
      },
      "source": [
        "##building and saving model"
      ]
    },
    {
      "cell_type": "code",
      "metadata": {
        "id": "dkrug1elu2gI",
        "colab_type": "code",
        "colab": {
          "base_uri": "https://localhost:8080/",
          "height": 35
        },
        "outputId": "a97b0733-0d36-4727-cdae-3f9555c09023"
      },
      "source": [
        " ##download dataset from gdrive \n",
        " import shutil\n",
        " shutil.copy2('/content/drive/My Drive/Dataset/Dataset.zip','.')"
      ],
      "execution_count": 1,
      "outputs": [
        {
          "output_type": "execute_result",
          "data": {
            "application/vnd.google.colaboratory.intrinsic+json": {
              "type": "string"
            },
            "text/plain": [
              "'./Dataset.zip'"
            ]
          },
          "metadata": {
            "tags": []
          },
          "execution_count": 1
        }
      ]
    },
    {
      "cell_type": "code",
      "metadata": {
        "id": "1ek9vCmwvc0K",
        "colab_type": "code",
        "colab": {
          "base_uri": "https://localhost:8080/",
          "height": 34
        },
        "outputId": "b94f8844-52ac-4534-b69c-c9df361df322"
      },
      "source": [
        "#extract the dataset\n",
        "from zipfile import ZipFile\n",
        "fname='Dataset.zip'\n",
        "with ZipFile(fname,'r') as zip:\n",
        "  zip.extractall()\n",
        "  print('done')"
      ],
      "execution_count": 2,
      "outputs": [
        {
          "output_type": "stream",
          "text": [
            "done\n"
          ],
          "name": "stdout"
        }
      ]
    },
    {
      "cell_type": "code",
      "metadata": {
        "id": "zAmEIAe3KzZZ",
        "colab_type": "code",
        "colab": {
          "base_uri": "https://localhost:8080/",
          "height": 34
        },
        "outputId": "ec5aa647-157a-4c68-f76f-247147d63f97"
      },
      "source": [
        "import os\n",
        "\n",
        "list = os.listdir('covid') # dir is your directory path\n",
        "number_files = len(list)\n",
        "print(number_files)"
      ],
      "execution_count": 8,
      "outputs": [
        {
          "output_type": "stream",
          "text": [
            "180\n"
          ],
          "name": "stdout"
        }
      ]
    },
    {
      "cell_type": "code",
      "metadata": {
        "id": "czgYvx5Evpoa",
        "colab_type": "code",
        "colab": {
          "base_uri": "https://localhost:8080/",
          "height": 35
        },
        "outputId": "45b61326-d9bb-4e93-8a58-aba62347013d"
      },
      "source": [
        "#make folder name dataset and cut the files into it for convinence\n",
        "shutil.move('covid','dataset')\n",
        "shutil.move('normal','dataset')"
      ],
      "execution_count": 9,
      "outputs": [
        {
          "output_type": "execute_result",
          "data": {
            "application/vnd.google.colaboratory.intrinsic+json": {
              "type": "string"
            },
            "text/plain": [
              "'dataset/normal'"
            ]
          },
          "metadata": {
            "tags": []
          },
          "execution_count": 9
        }
      ]
    },
    {
      "cell_type": "code",
      "metadata": {
        "id": "r8Rd-1nWwGo8",
        "colab_type": "code",
        "colab": {}
      },
      "source": [
        "#now separate train,test and validation data\n",
        "#first change the name of covid to 0 and normal to 1 manually\n",
        "import os\n",
        "import random\n",
        "os.chdir('dataset')\n",
        "if os.path.isdir('train/0/') is False:\n",
        "  os.mkdir('train')\n",
        "  os.mkdir('valid')\n",
        "  os.mkdir('test')\n",
        "\n",
        "  for i in range(0,2):\n",
        "    shutil.move(f'{i}','train')\n",
        "    os.mkdir(f'valid/{i}')\n",
        "    os.mkdir(f'test/{i}')\n",
        "    #move directory to train and make drictorys in valid and test\n",
        "    #now we have total 180 images so we take 25 for validation and 25 for test and rest of it for trainnig purpose\n",
        "\n",
        "    test_samples=random.sample(os.listdir(f'train/{i}'),25)\n",
        "    for j in test_samples:\n",
        "      shutil.move(f'train/{i}/{j}',f'test/{i}')\n",
        "\n",
        "    valid_samples=random.sample(os.listdir(f'train/{i}'),25)\n",
        "    for j in valid_samples:\n",
        "      shutil.move(f'train/{i}/{j}',f'valid/{i}') \n",
        "    \n"
      ],
      "execution_count": 11,
      "outputs": []
    },
    {
      "cell_type": "code",
      "metadata": {
        "id": "7B8SQf5u0RSr",
        "colab_type": "code",
        "colab": {}
      },
      "source": [
        "os.chdir('../')"
      ],
      "execution_count": 12,
      "outputs": []
    },
    {
      "cell_type": "code",
      "metadata": {
        "id": "hPh7L14dMp7x",
        "colab_type": "code",
        "colab": {
          "base_uri": "https://localhost:8080/",
          "height": 34
        },
        "outputId": "735789c0-351e-431e-8fd0-72d9ac9307c7"
      },
      "source": [
        "list = os.listdir('dataset/test/0') # dir is your directory path\n",
        "number_files = len(list)\n",
        "print(number_files)"
      ],
      "execution_count": 13,
      "outputs": [
        {
          "output_type": "stream",
          "text": [
            "25\n"
          ],
          "name": "stdout"
        }
      ]
    },
    {
      "cell_type": "code",
      "metadata": {
        "id": "au1mvOvP1NRr",
        "colab_type": "code",
        "colab": {
          "base_uri": "https://localhost:8080/",
          "height": 34
        },
        "outputId": "7592dea9-1a66-4607-9124-4375859b6dd8"
      },
      "source": [
        "!ls"
      ],
      "execution_count": 14,
      "outputs": [
        {
          "output_type": "stream",
          "text": [
            "dataset  Dataset.zip  drive  sample_data\n"
          ],
          "name": "stdout"
        }
      ]
    },
    {
      "cell_type": "code",
      "metadata": {
        "id": "wstOtDfZ201r",
        "colab_type": "code",
        "colab": {}
      },
      "source": [
        "import numpy as np\n",
        "import matplotlib.pyplot as plt\n",
        "import tensorflow as tf\n",
        "from tensorflow import keras\n",
        "from tensorflow.keras.layers import *\n",
        "from tensorflow.keras.models import *\n",
        "from tensorflow.keras.preprocessing import image"
      ],
      "execution_count": 15,
      "outputs": []
    },
    {
      "cell_type": "code",
      "metadata": {
        "id": "T1E6eupD1b_D",
        "colab_type": "code",
        "colab": {}
      },
      "source": [
        "##now the dataset is completly ready for preprocessing\n",
        "#now we have only 150 images so we use image datagenerator for making more images out of it\n",
        "#here we use famous vgg16 filter\n",
        "#logically we have to apply it only for train but we used same for test and validaton(genarally we only only take preproccessing to it)\n",
        "train_datagen=image.ImageDataGenerator(\n",
        "    preprocessing_function=tf.keras.applications.vgg16.preprocess_input,\n",
        "    width_shift_range=.05,\n",
        "    height_shift_range=.05,\n",
        "    zoom_range=.2,\n",
        "    shear_range=.2,\n",
        "    horizontal_flip=True,\n",
        "                                       )\n",
        "\n",
        "test_datagen=image.ImageDataGenerator(\n",
        "    preprocessing_function=tf.keras.applications.vgg16.preprocess_input,\n",
        "    width_shift_range=.05,\n",
        "    height_shift_range=.05,\n",
        "    zoom_range=.2,\n",
        "    shear_range=.2,\n",
        "    horizontal_flip=True,\n",
        "                                       )\n",
        "\n",
        "valid_datagen=image.ImageDataGenerator(\n",
        "    preprocessing_function=tf.keras.applications.vgg16.preprocess_input,\n",
        "    width_shift_range=.05,\n",
        "    height_shift_range=.05,\n",
        "    zoom_range=.2,\n",
        "    shear_range=.2,\n",
        "    horizontal_flip=True,\n",
        "                                       )"
      ],
      "execution_count": 42,
      "outputs": []
    },
    {
      "cell_type": "code",
      "metadata": {
        "id": "RUXerWgn55Vf",
        "colab_type": "code",
        "colab": {}
      },
      "source": [
        "train_path='dataset/train'\n",
        "valid_path='dataset/valid'\n",
        "test_path='dataset/test'"
      ],
      "execution_count": 43,
      "outputs": []
    },
    {
      "cell_type": "code",
      "metadata": {
        "id": "22AZFZcc6cae",
        "colab_type": "code",
        "colab": {
          "base_uri": "https://localhost:8080/",
          "height": 67
        },
        "outputId": "2b0d0176-cbda-4603-f94c-18c5dbe50716"
      },
      "source": [
        "train_gen=train_datagen.flow_from_directory(\n",
        "    train_path,\n",
        "    target_size=(224,224),\n",
        "    batch_size=32,\n",
        "    classes=['0','1']\n",
        ")\n",
        "\n",
        "test_gen=test_datagen.flow_from_directory(\n",
        "    test_path,\n",
        "    target_size=(224,224),\n",
        "    batch_size=32,\n",
        "    classes=['0','1']\n",
        ")\n",
        "\n",
        "valid_gen=valid_datagen.flow_from_directory(\n",
        "    valid_path,\n",
        "    target_size=(224,224),\n",
        "    batch_size=32,\n",
        "    classes=['0','1']\n",
        ")"
      ],
      "execution_count": 63,
      "outputs": [
        {
          "output_type": "stream",
          "text": [
            "Found 260 images belonging to 2 classes.\n",
            "Found 50 images belonging to 2 classes.\n",
            "Found 50 images belonging to 2 classes.\n"
          ],
          "name": "stdout"
        }
      ]
    },
    {
      "cell_type": "code",
      "metadata": {
        "id": "nPNhJ8-S8uec",
        "colab_type": "code",
        "colab": {
          "base_uri": "https://localhost:8080/",
          "height": 34
        },
        "outputId": "56497bd1-f522-4fcb-f900-ef3f031676a9"
      },
      "source": [
        "train_gen.class_indices"
      ],
      "execution_count": 45,
      "outputs": [
        {
          "output_type": "execute_result",
          "data": {
            "text/plain": [
              "{'0': 0, '1': 1}"
            ]
          },
          "metadata": {
            "tags": []
          },
          "execution_count": 45
        }
      ]
    },
    {
      "cell_type": "code",
      "metadata": {
        "id": "aGciTq5b85po",
        "colab_type": "code",
        "colab": {}
      },
      "source": [
        "model=Sequential()\n",
        "model.add(Conv2D(32,kernel_size=(3,3),activation='relu',input_shape=(224,224,3)))\n",
        "model.add(Conv2D(32,(3,3),activation='relu'))\n",
        "model.add(MaxPooling2D(pool_size=(2,2)))\n",
        "model.add(Dropout(.25))\n",
        "\n",
        "model.add(Conv2D(64,(3,3),activation='relu'))\n",
        "model.add(MaxPooling2D(pool_size=(2,2)))\n",
        "model.add(Dropout(.25))\n",
        "\n",
        "model.add(Conv2D(64,(3,3),activation='relu'))\n",
        "model.add(MaxPooling2D(pool_size=(2,2)))\n",
        "model.add(Dropout(.25))\n",
        "\n",
        "model.add(Conv2D(128,(3,3),activation='relu'))\n",
        "model.add(MaxPooling2D(pool_size=(2,2)))\n",
        "model.add(Dropout(.25))\n",
        "\n",
        "\n",
        "model.add(Flatten())\n",
        "\n",
        "model.add(Dense(256,activation='relu'))\n",
        "model.add(Dropout(.5))\n",
        "\n",
        "model.add(Dense(32,activation='relu'))\n",
        "model.add(Dropout(.5))\n",
        "\n",
        "# model.add(Dense(8,activation='relu'))\n",
        "# model.add(Dropout(.5))\n",
        "\n",
        "model.add(Dense(2,activation='softmax'))"
      ],
      "execution_count": 73,
      "outputs": []
    },
    {
      "cell_type": "code",
      "metadata": {
        "id": "bJZtkaM1APtD",
        "colab_type": "code",
        "colab": {}
      },
      "source": [
        "from tensorflow.keras.optimizers import Adam\n",
        "model.compile(loss=keras.losses.categorical_crossentropy,optimizer=Adam(learning_rate=0.001),metrics=['accuracy'])"
      ],
      "execution_count": 74,
      "outputs": []
    },
    {
      "cell_type": "code",
      "metadata": {
        "id": "hPeqg-6nA6hq",
        "colab_type": "code",
        "colab": {
          "base_uri": "https://localhost:8080/",
          "height": 790
        },
        "outputId": "69b08bbe-4d00-4a9a-82c3-24ff3806110b"
      },
      "source": [
        "model.summary()"
      ],
      "execution_count": 75,
      "outputs": [
        {
          "output_type": "stream",
          "text": [
            "Model: \"sequential_8\"\n",
            "_________________________________________________________________\n",
            "Layer (type)                 Output Shape              Param #   \n",
            "=================================================================\n",
            "conv2d_41 (Conv2D)           (None, 222, 222, 32)      896       \n",
            "_________________________________________________________________\n",
            "conv2d_42 (Conv2D)           (None, 220, 220, 32)      9248      \n",
            "_________________________________________________________________\n",
            "max_pooling2d_32 (MaxPooling (None, 110, 110, 32)      0         \n",
            "_________________________________________________________________\n",
            "dropout_55 (Dropout)         (None, 110, 110, 32)      0         \n",
            "_________________________________________________________________\n",
            "conv2d_43 (Conv2D)           (None, 108, 108, 64)      18496     \n",
            "_________________________________________________________________\n",
            "max_pooling2d_33 (MaxPooling (None, 54, 54, 64)        0         \n",
            "_________________________________________________________________\n",
            "dropout_56 (Dropout)         (None, 54, 54, 64)        0         \n",
            "_________________________________________________________________\n",
            "conv2d_44 (Conv2D)           (None, 52, 52, 64)        36928     \n",
            "_________________________________________________________________\n",
            "max_pooling2d_34 (MaxPooling (None, 26, 26, 64)        0         \n",
            "_________________________________________________________________\n",
            "dropout_57 (Dropout)         (None, 26, 26, 64)        0         \n",
            "_________________________________________________________________\n",
            "conv2d_45 (Conv2D)           (None, 24, 24, 128)       73856     \n",
            "_________________________________________________________________\n",
            "max_pooling2d_35 (MaxPooling (None, 12, 12, 128)       0         \n",
            "_________________________________________________________________\n",
            "dropout_58 (Dropout)         (None, 12, 12, 128)       0         \n",
            "_________________________________________________________________\n",
            "flatten_8 (Flatten)          (None, 18432)             0         \n",
            "_________________________________________________________________\n",
            "dense_31 (Dense)             (None, 256)               4718848   \n",
            "_________________________________________________________________\n",
            "dropout_59 (Dropout)         (None, 256)               0         \n",
            "_________________________________________________________________\n",
            "dense_32 (Dense)             (None, 32)                8224      \n",
            "_________________________________________________________________\n",
            "dropout_60 (Dropout)         (None, 32)                0         \n",
            "_________________________________________________________________\n",
            "dense_33 (Dense)             (None, 2)                 66        \n",
            "=================================================================\n",
            "Total params: 4,866,562\n",
            "Trainable params: 4,866,562\n",
            "Non-trainable params: 0\n",
            "_________________________________________________________________\n"
          ],
          "name": "stdout"
        }
      ]
    },
    {
      "cell_type": "code",
      "metadata": {
        "id": "wJPIa-M3A-iN",
        "colab_type": "code",
        "colab": {
          "base_uri": "https://localhost:8080/",
          "height": 706
        },
        "outputId": "a686956f-6def-46c0-cd57-e125994a1708"
      },
      "source": [
        "model.fit(x=train_gen,validation_data=valid_gen,steps_per_epoch=8,epochs=20,verbose=2)"
      ],
      "execution_count": 76,
      "outputs": [
        {
          "output_type": "stream",
          "text": [
            "Epoch 1/20\n",
            "8/8 - 9s - loss: 16.7195 - accuracy: 0.4649 - val_loss: 0.6773 - val_accuracy: 0.5000\n",
            "Epoch 2/20\n",
            "8/8 - 8s - loss: 0.9470 - accuracy: 0.5000 - val_loss: 0.6909 - val_accuracy: 0.7200\n",
            "Epoch 3/20\n",
            "8/8 - 8s - loss: 0.6906 - accuracy: 0.5625 - val_loss: 0.6875 - val_accuracy: 0.6200\n",
            "Epoch 4/20\n",
            "8/8 - 8s - loss: 0.6872 - accuracy: 0.5877 - val_loss: 0.6787 - val_accuracy: 0.6200\n",
            "Epoch 5/20\n",
            "8/8 - 8s - loss: 0.6450 - accuracy: 0.6096 - val_loss: 0.6668 - val_accuracy: 0.8600\n",
            "Epoch 6/20\n",
            "8/8 - 8s - loss: 0.5760 - accuracy: 0.7061 - val_loss: 0.4148 - val_accuracy: 0.9400\n",
            "Epoch 7/20\n",
            "8/8 - 8s - loss: 0.4071 - accuracy: 0.8509 - val_loss: 0.2428 - val_accuracy: 0.9600\n",
            "Epoch 8/20\n",
            "8/8 - 9s - loss: 0.3274 - accuracy: 0.8684 - val_loss: 0.3230 - val_accuracy: 0.9800\n",
            "Epoch 9/20\n",
            "8/8 - 8s - loss: 0.3777 - accuracy: 0.8728 - val_loss: 0.4491 - val_accuracy: 0.9400\n",
            "Epoch 10/20\n",
            "8/8 - 8s - loss: 0.3288 - accuracy: 0.8640 - val_loss: 0.2159 - val_accuracy: 0.9800\n",
            "Epoch 11/20\n",
            "8/8 - 8s - loss: 0.3109 - accuracy: 0.8860 - val_loss: 0.1204 - val_accuracy: 0.9800\n",
            "Epoch 12/20\n",
            "8/8 - 9s - loss: 0.2827 - accuracy: 0.8991 - val_loss: 0.2124 - val_accuracy: 0.9800\n",
            "Epoch 13/20\n",
            "8/8 - 8s - loss: 0.2858 - accuracy: 0.8991 - val_loss: 0.2114 - val_accuracy: 1.0000\n",
            "Epoch 14/20\n",
            "8/8 - 8s - loss: 0.3504 - accuracy: 0.8991 - val_loss: 0.5366 - val_accuracy: 0.9000\n",
            "Epoch 15/20\n",
            "8/8 - 8s - loss: 0.4602 - accuracy: 0.8553 - val_loss: 0.2692 - val_accuracy: 1.0000\n",
            "Epoch 16/20\n",
            "8/8 - 8s - loss: 0.3462 - accuracy: 0.8991 - val_loss: 0.3081 - val_accuracy: 0.8800\n",
            "Epoch 17/20\n",
            "8/8 - 8s - loss: 0.2613 - accuracy: 0.9298 - val_loss: 0.1122 - val_accuracy: 1.0000\n",
            "Epoch 18/20\n",
            "8/8 - 8s - loss: 0.2632 - accuracy: 0.9079 - val_loss: 0.4989 - val_accuracy: 0.8000\n",
            "Epoch 19/20\n",
            "8/8 - 9s - loss: 0.3715 - accuracy: 0.8465 - val_loss: 0.3718 - val_accuracy: 0.9600\n",
            "Epoch 20/20\n",
            "8/8 - 8s - loss: 0.3122 - accuracy: 0.8947 - val_loss: 0.1884 - val_accuracy: 0.9600\n"
          ],
          "name": "stdout"
        },
        {
          "output_type": "execute_result",
          "data": {
            "text/plain": [
              "<tensorflow.python.keras.callbacks.History at 0x7f8ca26f12b0>"
            ]
          },
          "metadata": {
            "tags": []
          },
          "execution_count": 76
        }
      ]
    },
    {
      "cell_type": "code",
      "metadata": {
        "id": "E6JU01hrB1OZ",
        "colab_type": "code",
        "colab": {}
      },
      "source": [
        "predictions=model.predict(test_gen)"
      ],
      "execution_count": 77,
      "outputs": []
    },
    {
      "cell_type": "code",
      "metadata": {
        "id": "kRZy9NDcDKLZ",
        "colab_type": "code",
        "colab": {}
      },
      "source": [
        "##after shwong above outputs the model is not accurate at predictions\n",
        "##so i tried another model"
      ],
      "execution_count": null,
      "outputs": []
    },
    {
      "cell_type": "code",
      "metadata": {
        "id": "-3O0llBzEOkm",
        "colab_type": "code",
        "colab": {}
      },
      "source": [
        "def plot_confusion_matrix(cm,classes,normalize=False,title='Confusion Matrix',cmap=plt.cm.Blues):\n",
        "  plt.imshow(cm,interpolation='nearest',cmap=cmap)\n",
        "  plt.title(title)\n",
        "  plt.colorbar()\n",
        "  tick_marks=np.arange(len(classes))\n",
        "  plt.xticks(tick_marks,classes,rotation=45)\n",
        "  plt.yticks(tick_marks,classes,rotation=0)\n",
        "\n",
        "  if normalize:\n",
        "    cm=cm.astype('float')/am.sum(axis=1)[:,np.newaxis]\n",
        "    print(\"Normalized confusion matrix\")\n",
        "  else:\n",
        "    print(\"Confusion matrix,without normalization\")\n",
        "  \n",
        "  print(cm)\n",
        "\n",
        "  thresh=cm.max()/2\n",
        "  for i,j in itertools.product(range(cm.shape[0]),range(cm.shape[1])):\n",
        "    plt.text(j,i,cm[i,j],horizontalalignment='center',color='white' if cm[i,j]>thresh else 'black')\n",
        "  plt.tight_layout()\n",
        "  plt.ylabel('True label')\n",
        "  plt.xlabel('Predicted label')"
      ],
      "execution_count": 70,
      "outputs": []
    },
    {
      "cell_type": "code",
      "metadata": {
        "id": "IYIr4aHcT1Vg",
        "colab_type": "code",
        "colab": {}
      },
      "source": [
        "from sklearn.metrics import confusion_matrix\n",
        "import itertools\n",
        "cm=confusion_matrix(y_true=test_gen.classes,y_pred=np.argmax(predictions,axis=-1))"
      ],
      "execution_count": 78,
      "outputs": []
    },
    {
      "cell_type": "code",
      "metadata": {
        "id": "H5EI4FUNT7h2",
        "colab_type": "code",
        "colab": {
          "base_uri": "https://localhost:8080/",
          "height": 362
        },
        "outputId": "93ab0e5f-3399-48ac-e51b-fbf06affd5a0"
      },
      "source": [
        "cm_plot_labels=['covid','normal']\n",
        "plot_confusion_matrix(cm=cm,classes=cm_plot_labels,title='Confusion Matrix')"
      ],
      "execution_count": 79,
      "outputs": [
        {
          "output_type": "stream",
          "text": [
            "Confusion matrix,without normalization\n",
            "[[10 15]\n",
            " [12 13]]\n"
          ],
          "name": "stdout"
        },
        {
          "output_type": "display_data",
          "data": {
            "image/png": "[encoded data removed]",
            "text/plain": [
              "<Figure size 432x288 with 2 Axes>"
            ]
          },
          "metadata": {
            "tags": [],
            "needs_background": "light"
          }
        }
      ]
    },
    {
      "cell_type": "code",
      "metadata": {
        "id": "pOL3tSxQUUr1",
        "colab_type": "code",
        "colab": {}
      },
      "source": [
        ""
      ],
      "execution_count": null,
      "outputs": []
    }
  ]
}