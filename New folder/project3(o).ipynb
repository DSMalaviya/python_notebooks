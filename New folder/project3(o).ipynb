{
  "nbformat": 4,
  "nbformat_minor": 0,
  "metadata": {
    "colab": {
      "name": "project3(o).ipynb",
      "provenance": []
    },
    "kernelspec": {
      "name": "python3",
      "display_name": "Python 3"
    },
    "accelerator": "GPU"
  },
  "cells": [
    {
      "cell_type": "markdown",
      "metadata": {
        "id": "jQaBiGnxDiM0",
        "colab_type": "text"
      },
      "source": [
        "## lets try transfer learning"
      ]
    },
    {
      "cell_type": "code",
      "metadata": {
        "id": "4njG-NiwDCbU",
        "colab_type": "code",
        "colab": {}
      },
      "source": [
        "import os\n",
        "import shutil\n",
        "import cv2"
      ],
      "execution_count": 6,
      "outputs": []
    },
    {
      "cell_type": "code",
      "metadata": {
        "id": "Vh1K0PWCDvgR",
        "colab_type": "code",
        "colab": {}
      },
      "source": [
        "os.environ['KAGGLE_CONFIG_DIR']=\"/content\""
      ],
      "execution_count": 7,
      "outputs": []
    },
    {
      "cell_type": "code",
      "metadata": {
        "id": "J7J2o0dGD6oI",
        "colab_type": "code",
        "colab": {
          "base_uri": "https://localhost:8080/",
          "height": 84
        },
        "outputId": "0fd4b479-ade8-4e37-e035-216102e838c6"
      },
      "source": [
        "!kaggle datasets download -d amanullahasraf/covid19-pneumonia-normal-chest-xray-pa-dataset"
      ],
      "execution_count": 8,
      "outputs": [
        {
          "output_type": "stream",
          "text": [
            "Warning: Your Kaggle API key is readable by other users on this system! To fix this, you can run 'chmod 600 /content/kaggle.json'\n",
            "Downloading covid19-pneumonia-normal-chest-xray-pa-dataset.zip to /content\n",
            " 99% 1.90G/1.91G [00:49<00:00, 29.5MB/s]\n",
            "100% 1.91G/1.91G [00:49<00:00, 41.2MB/s]\n"
          ],
          "name": "stdout"
        }
      ]
    },
    {
      "cell_type": "code",
      "metadata": {
        "id": "022gZL6_D-Ir",
        "colab_type": "code",
        "colab": {
          "base_uri": "https://localhost:8080/",
          "height": 34
        },
        "outputId": "a2e94043-b745-4b9c-f0eb-5d63521a21e7"
      },
      "source": [
        "from zipfile import ZipFile\n",
        "fname='covid19-pneumonia-normal-chest-xray-pa-dataset.zip'\n",
        "with ZipFile(fname,'r') as zip:\n",
        "  zip.extractall()\n",
        "  print('done')"
      ],
      "execution_count": 9,
      "outputs": [
        {
          "output_type": "stream",
          "text": [
            "done\n"
          ],
          "name": "stdout"
        }
      ]
    },
    {
      "cell_type": "code",
      "metadata": {
        "id": "xz9x3rRvEkwB",
        "colab_type": "code",
        "colab": {}
      },
      "source": [
        "os.mkdir('covid2')\n",
        "os.mkdir('normal2')\n",
        "os.mkdir('pneumonia2')"
      ],
      "execution_count": 10,
      "outputs": []
    },
    {
      "cell_type": "code",
      "metadata": {
        "id": "vJWf1rZ4EySp",
        "colab_type": "code",
        "colab": {}
      },
      "source": [
        "files=os.listdir('normal')\n",
        "for f in files:\n",
        "  image = cv2.imread(os.path.join('normal',f))\n",
        "  gray = cv2.cvtColor(image, cv2.COLOR_BGR2GRAY)\n",
        "  cv2.imwrite(os.path.join('normal2',f),gray)\n",
        "\n",
        "files1=os.listdir('covid')\n",
        "for f in files1:\n",
        "  image = cv2.imread(os.path.join('covid',f))\n",
        "  gray = cv2.cvtColor(image, cv2.COLOR_BGR2GRAY)\n",
        "  cv2.imwrite(os.path.join('covid2',f'{f}.png'),gray)\n",
        "\n",
        "files2=os.listdir('pneumonia')\n",
        "for f in files2:\n",
        "  image = cv2.imread(os.path.join('pneumonia',f))\n",
        "  gray = cv2.cvtColor(image, cv2.COLOR_BGR2GRAY)\n",
        "  cv2.imwrite(os.path.join('pneumonia2',f),gray)"
      ],
      "execution_count": 11,
      "outputs": []
    },
    {
      "cell_type": "code",
      "metadata": {
        "id": "Glj6au58E3cK",
        "colab_type": "code",
        "colab": {
          "base_uri": "https://localhost:8080/",
          "height": 35
        },
        "outputId": "db9b9924-05aa-4207-a6f3-ab0aff3daff5"
      },
      "source": [
        "os.mkdir('Dataset')\n",
        "shutil.move('covid2','Dataset')\n",
        "shutil.move('normal2','Dataset')\n",
        "shutil.move('pneumonia2','Dataset')"
      ],
      "execution_count": 12,
      "outputs": [
        {
          "output_type": "execute_result",
          "data": {
            "application/vnd.google.colaboratory.intrinsic+json": {
              "type": "string"
            },
            "text/plain": [
              "'Dataset/pneumonia2'"
            ]
          },
          "metadata": {
            "tags": []
          },
          "execution_count": 12
        }
      ]
    },
    {
      "cell_type": "code",
      "metadata": {
        "id": "vNuqlGMyFGeW",
        "colab_type": "code",
        "colab": {}
      },
      "source": [
        "os.chdir('Dataset')\n",
        "os.rename('covid2','0')\n",
        "os.rename('normal2','1')\n",
        "os.rename('pneumonia2','2')\n",
        "\n",
        "os.chdir('../')"
      ],
      "execution_count": 13,
      "outputs": []
    },
    {
      "cell_type": "code",
      "metadata": {
        "id": "8xOL8npCFmC4",
        "colab_type": "code",
        "colab": {}
      },
      "source": [
        "import random\n",
        "os.chdir('Dataset')\n",
        "if os.path.isdir('train/0/') is False:\n",
        "  os.mkdir('train')\n",
        "  os.mkdir('test')\n",
        "  os.mkdir('valid')\n",
        "\n",
        "  for i in range(0,3):\n",
        "    shutil.move(f'{i}','train')\n",
        "    os.mkdir(f'test/{i}')\n",
        "    os.mkdir(f'valid/{i}')\n",
        "\n",
        "\n",
        "    test_samples=random.sample(os.listdir(f'train/{i}'),100)\n",
        "    for j in test_samples:\n",
        "      shutil.move(f'train/{i}/{j}',f'test/{i}')\n",
        "\n",
        "    valid_samples=random.sample(os.listdir(f'train/{i}'),200)\n",
        "    for j in valid_samples:\n",
        "      shutil.move(f'train/{i}/{j}',f'valid/{i}') \n",
        "\n",
        "os.chdir(\"../\")  "
      ],
      "execution_count": 14,
      "outputs": []
    },
    {
      "cell_type": "code",
      "metadata": {
        "id": "YnWGG83eFrcX",
        "colab_type": "code",
        "colab": {}
      },
      "source": [
        "import numpy as np\n",
        "import matplotlib.pyplot as plt\n",
        "import tensorflow as tf\n",
        "from tensorflow import keras\n",
        "from tensorflow.keras.layers import *\n",
        "from tensorflow.keras.models import *\n",
        "from tensorflow.keras.preprocessing import image"
      ],
      "execution_count": 15,
      "outputs": []
    },
    {
      "cell_type": "code",
      "metadata": {
        "id": "I-Ia0nh9Ggtw",
        "colab_type": "code",
        "colab": {}
      },
      "source": [
        "train_datagen=image.ImageDataGenerator(\n",
        "    preprocessing_function=tf.keras.applications.vgg16.preprocess_input,\n",
        "    width_shift_range=.1,\n",
        "    height_shift_range=.1,\n",
        "    zoom_range=.1,\n",
        "    shear_range=.1,\n",
        "    horizontal_flip=True\n",
        "                                       )\n",
        "\n",
        "test_datagen=image.ImageDataGenerator(\n",
        "    preprocessing_function=tf.keras.applications.vgg16.preprocess_input\n",
        "                                       )\n",
        "valid_datagen=image.ImageDataGenerator(\n",
        "    preprocessing_function=tf.keras.applications.vgg16.preprocess_input\n",
        "                                       )"
      ],
      "execution_count": 29,
      "outputs": []
    },
    {
      "cell_type": "code",
      "metadata": {
        "id": "Bk8UulMCGk7V",
        "colab_type": "code",
        "colab": {}
      },
      "source": [
        "train_path='Dataset/train'\n",
        "test_path='Dataset/test'\n",
        "valid_path='Dataset/valid'"
      ],
      "execution_count": 30,
      "outputs": []
    },
    {
      "cell_type": "code",
      "metadata": {
        "id": "-RvtFBOhGpIR",
        "colab_type": "code",
        "colab": {
          "base_uri": "https://localhost:8080/",
          "height": 67
        },
        "outputId": "bf285eff-1fac-4b3d-d040-c4d9a58a0511"
      },
      "source": [
        "train_gen=train_datagen.flow_from_directory(\n",
        "    train_path,\n",
        "    target_size=(224,224),\n",
        "    batch_size=32,\n",
        "    color_mode='rgb'\n",
        ")\n",
        "\n",
        "test_gen=test_datagen.flow_from_directory(\n",
        "    test_path,\n",
        "    target_size=(224,224),\n",
        "    batch_size=32,\n",
        "    color_mode='rgb'\n",
        ")\n",
        "\n",
        "valid_gen=valid_datagen.flow_from_directory(\n",
        "    valid_path,\n",
        "    target_size=(224,224),\n",
        "    batch_size=32,\n",
        "    color_mode='rgb'\n",
        ")"
      ],
      "execution_count": 31,
      "outputs": [
        {
          "output_type": "stream",
          "text": [
            "Found 6039 images belonging to 3 classes.\n",
            "Found 300 images belonging to 3 classes.\n",
            "Found 600 images belonging to 3 classes.\n"
          ],
          "name": "stdout"
        }
      ]
    },
    {
      "cell_type": "code",
      "metadata": {
        "id": "z4XWEv_rGsH-",
        "colab_type": "code",
        "colab": {}
      },
      "source": [
        "vgg16_model=tf.keras.applications.vgg16.VGG16()"
      ],
      "execution_count": 32,
      "outputs": []
    },
    {
      "cell_type": "code",
      "metadata": {
        "id": "6fagwCpQIGSk",
        "colab_type": "code",
        "colab": {
          "base_uri": "https://localhost:8080/",
          "height": 924
        },
        "outputId": "47844fc3-3bf9-45ba-ea25-dc1648c9fdf1"
      },
      "source": [
        "vgg16_model.summary()"
      ],
      "execution_count": 33,
      "outputs": [
        {
          "output_type": "stream",
          "text": [
            "Model: \"vgg16\"\n",
            "_________________________________________________________________\n",
            "Layer (type)                 Output Shape              Param #   \n",
            "=================================================================\n",
            "input_2 (InputLayer)         [(None, 224, 224, 3)]     0         \n",
            "_________________________________________________________________\n",
            "block1_conv1 (Conv2D)        (None, 224, 224, 64)      1792      \n",
            "_________________________________________________________________\n",
            "block1_conv2 (Conv2D)        (None, 224, 224, 64)      36928     \n",
            "_________________________________________________________________\n",
            "block1_pool (MaxPooling2D)   (None, 112, 112, 64)      0         \n",
            "_________________________________________________________________\n",
            "block2_conv1 (Conv2D)        (None, 112, 112, 128)     73856     \n",
            "_________________________________________________________________\n",
            "block2_conv2 (Conv2D)        (None, 112, 112, 128)     147584    \n",
            "_________________________________________________________________\n",
            "block2_pool (MaxPooling2D)   (None, 56, 56, 128)       0         \n",
            "_________________________________________________________________\n",
            "block3_conv1 (Conv2D)        (None, 56, 56, 256)       295168    \n",
            "_________________________________________________________________\n",
            "block3_conv2 (Conv2D)        (None, 56, 56, 256)       590080    \n",
            "_________________________________________________________________\n",
            "block3_conv3 (Conv2D)        (None, 56, 56, 256)       590080    \n",
            "_________________________________________________________________\n",
            "block3_pool (MaxPooling2D)   (None, 28, 28, 256)       0         \n",
            "_________________________________________________________________\n",
            "block4_conv1 (Conv2D)        (None, 28, 28, 512)       1180160   \n",
            "_________________________________________________________________\n",
            "block4_conv2 (Conv2D)        (None, 28, 28, 512)       2359808   \n",
            "_________________________________________________________________\n",
            "block4_conv3 (Conv2D)        (None, 28, 28, 512)       2359808   \n",
            "_________________________________________________________________\n",
            "block4_pool (MaxPooling2D)   (None, 14, 14, 512)       0         \n",
            "_________________________________________________________________\n",
            "block5_conv1 (Conv2D)        (None, 14, 14, 512)       2359808   \n",
            "_________________________________________________________________\n",
            "block5_conv2 (Conv2D)        (None, 14, 14, 512)       2359808   \n",
            "_________________________________________________________________\n",
            "block5_conv3 (Conv2D)        (None, 14, 14, 512)       2359808   \n",
            "_________________________________________________________________\n",
            "block5_pool (MaxPooling2D)   (None, 7, 7, 512)         0         \n",
            "_________________________________________________________________\n",
            "flatten (Flatten)            (None, 25088)             0         \n",
            "_________________________________________________________________\n",
            "fc1 (Dense)                  (None, 4096)              102764544 \n",
            "_________________________________________________________________\n",
            "fc2 (Dense)                  (None, 4096)              16781312  \n",
            "_________________________________________________________________\n",
            "predictions (Dense)          (None, 1000)              4097000   \n",
            "=================================================================\n",
            "Total params: 138,357,544\n",
            "Trainable params: 138,357,544\n",
            "Non-trainable params: 0\n",
            "_________________________________________________________________\n"
          ],
          "name": "stdout"
        }
      ]
    },
    {
      "cell_type": "code",
      "metadata": {
        "id": "h8Q-CIbzIMO_",
        "colab_type": "code",
        "colab": {}
      },
      "source": [
        " model=Sequential()\n",
        " for layer in vgg16_model.layers[:-6]:\n",
        "   model.add(layer)"
      ],
      "execution_count": 46,
      "outputs": []
    },
    {
      "cell_type": "code",
      "metadata": {
        "id": "J-d81S8rIUk1",
        "colab_type": "code",
        "colab": {
          "base_uri": "https://localhost:8080/",
          "height": 689
        },
        "outputId": "793fc8ed-54f4-481d-b252-14f39798f17d"
      },
      "source": [
        "model.summary()"
      ],
      "execution_count": 47,
      "outputs": [
        {
          "output_type": "stream",
          "text": [
            "Model: \"sequential_2\"\n",
            "_________________________________________________________________\n",
            "Layer (type)                 Output Shape              Param #   \n",
            "=================================================================\n",
            "block1_conv1 (Conv2D)        (None, 224, 224, 64)      1792      \n",
            "_________________________________________________________________\n",
            "block1_conv2 (Conv2D)        (None, 224, 224, 64)      36928     \n",
            "_________________________________________________________________\n",
            "block1_pool (MaxPooling2D)   (None, 112, 112, 64)      0         \n",
            "_________________________________________________________________\n",
            "block2_conv1 (Conv2D)        (None, 112, 112, 128)     73856     \n",
            "_________________________________________________________________\n",
            "block2_conv2 (Conv2D)        (None, 112, 112, 128)     147584    \n",
            "_________________________________________________________________\n",
            "block2_pool (MaxPooling2D)   (None, 56, 56, 128)       0         \n",
            "_________________________________________________________________\n",
            "block3_conv1 (Conv2D)        (None, 56, 56, 256)       295168    \n",
            "_________________________________________________________________\n",
            "block3_conv2 (Conv2D)        (None, 56, 56, 256)       590080    \n",
            "_________________________________________________________________\n",
            "block3_conv3 (Conv2D)        (None, 56, 56, 256)       590080    \n",
            "_________________________________________________________________\n",
            "block3_pool (MaxPooling2D)   (None, 28, 28, 256)       0         \n",
            "_________________________________________________________________\n",
            "block4_conv1 (Conv2D)        (None, 28, 28, 512)       1180160   \n",
            "_________________________________________________________________\n",
            "block4_conv2 (Conv2D)        (None, 28, 28, 512)       2359808   \n",
            "_________________________________________________________________\n",
            "block4_conv3 (Conv2D)        (None, 28, 28, 512)       2359808   \n",
            "_________________________________________________________________\n",
            "block4_pool (MaxPooling2D)   (None, 14, 14, 512)       0         \n",
            "_________________________________________________________________\n",
            "block5_conv1 (Conv2D)        (None, 14, 14, 512)       2359808   \n",
            "_________________________________________________________________\n",
            "block5_conv2 (Conv2D)        (None, 14, 14, 512)       2359808   \n",
            "=================================================================\n",
            "Total params: 12,354,880\n",
            "Trainable params: 0\n",
            "Non-trainable params: 12,354,880\n",
            "_________________________________________________________________\n"
          ],
          "name": "stdout"
        }
      ]
    },
    {
      "cell_type": "code",
      "metadata": {
        "id": "5j5S9ozCIWl_",
        "colab_type": "code",
        "colab": {}
      },
      "source": [
        "for layer in model.layers:\n",
        "  layer.trainable=False"
      ],
      "execution_count": 48,
      "outputs": []
    },
    {
      "cell_type": "code",
      "metadata": {
        "id": "eKkTX0p0IdlI",
        "colab_type": "code",
        "colab": {}
      },
      "source": [
        "model.add(MaxPooling2D(pool_size=(2,2)))\n",
        "model.add(Dense(4096,activation='relu'))\n",
        "model.add(Dropout(0.5))\n",
        "model.add(Dense(512,activation='relu'))\n",
        "model.add(Dropout(0.5))\n",
        "model.add(Dense(3,activation='softmax'))"
      ],
      "execution_count": 49,
      "outputs": []
    },
    {
      "cell_type": "code",
      "metadata": {
        "id": "Wa8-s9_-JD5r",
        "colab_type": "code",
        "colab": {
          "base_uri": "https://localhost:8080/",
          "height": 991
        },
        "outputId": "04c90ccf-8312-4d95-c707-c08e886188c6"
      },
      "source": [
        "model.summary()"
      ],
      "execution_count": 38,
      "outputs": [
        {
          "output_type": "stream",
          "text": [
            "Model: \"sequential_1\"\n",
            "_________________________________________________________________\n",
            "Layer (type)                 Output Shape              Param #   \n",
            "=================================================================\n",
            "block1_conv1 (Conv2D)        (None, 224, 224, 64)      1792      \n",
            "_________________________________________________________________\n",
            "block1_conv2 (Conv2D)        (None, 224, 224, 64)      36928     \n",
            "_________________________________________________________________\n",
            "block1_pool (MaxPooling2D)   (None, 112, 112, 64)      0         \n",
            "_________________________________________________________________\n",
            "block2_conv1 (Conv2D)        (None, 112, 112, 128)     73856     \n",
            "_________________________________________________________________\n",
            "block2_conv2 (Conv2D)        (None, 112, 112, 128)     147584    \n",
            "_________________________________________________________________\n",
            "block2_pool (MaxPooling2D)   (None, 56, 56, 128)       0         \n",
            "_________________________________________________________________\n",
            "block3_conv1 (Conv2D)        (None, 56, 56, 256)       295168    \n",
            "_________________________________________________________________\n",
            "block3_conv2 (Conv2D)        (None, 56, 56, 256)       590080    \n",
            "_________________________________________________________________\n",
            "block3_conv3 (Conv2D)        (None, 56, 56, 256)       590080    \n",
            "_________________________________________________________________\n",
            "block3_pool (MaxPooling2D)   (None, 28, 28, 256)       0         \n",
            "_________________________________________________________________\n",
            "block4_conv1 (Conv2D)        (None, 28, 28, 512)       1180160   \n",
            "_________________________________________________________________\n",
            "block4_conv2 (Conv2D)        (None, 28, 28, 512)       2359808   \n",
            "_________________________________________________________________\n",
            "block4_conv3 (Conv2D)        (None, 28, 28, 512)       2359808   \n",
            "_________________________________________________________________\n",
            "block4_pool (MaxPooling2D)   (None, 14, 14, 512)       0         \n",
            "_________________________________________________________________\n",
            "block5_conv1 (Conv2D)        (None, 14, 14, 512)       2359808   \n",
            "_________________________________________________________________\n",
            "block5_conv2 (Conv2D)        (None, 14, 14, 512)       2359808   \n",
            "_________________________________________________________________\n",
            "block5_conv3 (Conv2D)        (None, 14, 14, 512)       2359808   \n",
            "_________________________________________________________________\n",
            "block5_pool (MaxPooling2D)   (None, 7, 7, 512)         0         \n",
            "_________________________________________________________________\n",
            "flatten (Flatten)            (None, 25088)             0         \n",
            "_________________________________________________________________\n",
            "fc1 (Dense)                  (None, 4096)              102764544 \n",
            "_________________________________________________________________\n",
            "dense_3 (Dense)              (None, 1024)              4195328   \n",
            "_________________________________________________________________\n",
            "dropout_2 (Dropout)          (None, 1024)              0         \n",
            "_________________________________________________________________\n",
            "dense_4 (Dense)              (None, 64)                65600     \n",
            "_________________________________________________________________\n",
            "dropout_3 (Dropout)          (None, 64)                0         \n",
            "_________________________________________________________________\n",
            "dense_5 (Dense)              (None, 3)                 195       \n",
            "=================================================================\n",
            "Total params: 121,740,355\n",
            "Trainable params: 4,261,123\n",
            "Non-trainable params: 117,479,232\n",
            "_________________________________________________________________\n"
          ],
          "name": "stdout"
        }
      ]
    },
    {
      "cell_type": "code",
      "metadata": {
        "id": "GhSq9r6GJGHl",
        "colab_type": "code",
        "colab": {}
      },
      "source": [
        "from tensorflow.keras.optimizers import Adam\n",
        "model.compile(optimizer=Adam(learning_rate=0.0001),loss='categorical_crossentropy',metrics=['accuracy'])"
      ],
      "execution_count": 39,
      "outputs": []
    },
    {
      "cell_type": "code",
      "metadata": {
        "id": "Zj0TR6w2Jqp-",
        "colab_type": "code",
        "colab": {
          "base_uri": "https://localhost:8080/",
          "height": 706
        },
        "outputId": "2b66bbb6-0cff-422f-efa6-435d48848576"
      },
      "source": [
        "model.fit(train_gen,validation_data=valid_gen,epochs=20,batch_size=128,shuffle=True,verbose=2)"
      ],
      "execution_count": 40,
      "outputs": [
        {
          "output_type": "stream",
          "text": [
            "Epoch 1/20\n",
            "189/189 - 157s - loss: 1.1612 - accuracy: 0.6771 - val_loss: 0.4952 - val_accuracy: 0.8600\n",
            "Epoch 2/20\n",
            "189/189 - 156s - loss: 0.5888 - accuracy: 0.7874 - val_loss: 0.4046 - val_accuracy: 0.8767\n",
            "Epoch 3/20\n",
            "189/189 - 156s - loss: 0.4997 - accuracy: 0.8236 - val_loss: 0.3581 - val_accuracy: 0.8967\n",
            "Epoch 4/20\n",
            "189/189 - 155s - loss: 0.4543 - accuracy: 0.8422 - val_loss: 0.3109 - val_accuracy: 0.9017\n",
            "Epoch 5/20\n",
            "189/189 - 154s - loss: 0.4147 - accuracy: 0.8568 - val_loss: 0.3298 - val_accuracy: 0.8850\n",
            "Epoch 6/20\n",
            "189/189 - 155s - loss: 0.3736 - accuracy: 0.8746 - val_loss: 0.2768 - val_accuracy: 0.9133\n",
            "Epoch 7/20\n",
            "189/189 - 154s - loss: 0.3560 - accuracy: 0.8813 - val_loss: 0.2595 - val_accuracy: 0.9300\n",
            "Epoch 8/20\n",
            "189/189 - 153s - loss: 0.3417 - accuracy: 0.8867 - val_loss: 0.2654 - val_accuracy: 0.9067\n",
            "Epoch 9/20\n",
            "189/189 - 153s - loss: 0.3259 - accuracy: 0.8910 - val_loss: 0.2285 - val_accuracy: 0.9283\n",
            "Epoch 10/20\n",
            "189/189 - 154s - loss: 0.3125 - accuracy: 0.8934 - val_loss: 0.2351 - val_accuracy: 0.9350\n",
            "Epoch 11/20\n",
            "189/189 - 153s - loss: 0.3025 - accuracy: 0.9006 - val_loss: 0.2335 - val_accuracy: 0.9400\n",
            "Epoch 12/20\n",
            "189/189 - 152s - loss: 0.2882 - accuracy: 0.9061 - val_loss: 0.2115 - val_accuracy: 0.9383\n",
            "Epoch 13/20\n",
            "189/189 - 153s - loss: 0.2872 - accuracy: 0.9094 - val_loss: 0.2263 - val_accuracy: 0.9333\n",
            "Epoch 14/20\n",
            "189/189 - 151s - loss: 0.2754 - accuracy: 0.9152 - val_loss: 0.2119 - val_accuracy: 0.9383\n",
            "Epoch 15/20\n",
            "189/189 - 151s - loss: 0.2707 - accuracy: 0.9144 - val_loss: 0.2191 - val_accuracy: 0.9283\n",
            "Epoch 16/20\n",
            "189/189 - 151s - loss: 0.2562 - accuracy: 0.9169 - val_loss: 0.2001 - val_accuracy: 0.9383\n",
            "Epoch 17/20\n",
            "189/189 - 151s - loss: 0.2553 - accuracy: 0.9218 - val_loss: 0.1921 - val_accuracy: 0.9433\n",
            "Epoch 18/20\n",
            "189/189 - 152s - loss: 0.2362 - accuracy: 0.9243 - val_loss: 0.2044 - val_accuracy: 0.9367\n",
            "Epoch 19/20\n",
            "189/189 - 151s - loss: 0.2409 - accuracy: 0.9261 - val_loss: 0.2103 - val_accuracy: 0.9300\n",
            "Epoch 20/20\n",
            "189/189 - 151s - loss: 0.2314 - accuracy: 0.9245 - val_loss: 0.2053 - val_accuracy: 0.9400\n"
          ],
          "name": "stdout"
        },
        {
          "output_type": "execute_result",
          "data": {
            "text/plain": [
              "<tensorflow.python.keras.callbacks.History at 0x7f60270c7b00>"
            ]
          },
          "metadata": {
            "tags": []
          },
          "execution_count": 40
        }
      ]
    },
    {
      "cell_type": "code",
      "metadata": {
        "id": "5aaeirSJKHkK",
        "colab_type": "code",
        "colab": {}
      },
      "source": [
        "predictions=model.predict(test_gen)"
      ],
      "execution_count": 41,
      "outputs": []
    },
    {
      "cell_type": "code",
      "metadata": {
        "id": "x95Inctvawg9",
        "colab_type": "code",
        "colab": {}
      },
      "source": [
        "def plot_confusion_matrix(cm,classes,normalize=False,title='Confusion Matrix',cmap=plt.cm.Blues):\n",
        "  plt.imshow(cm,interpolation='nearest',cmap=cmap)\n",
        "  plt.title(title)\n",
        "  plt.colorbar()\n",
        "  tick_marks=np.arange(len(classes))\n",
        "  plt.xticks(tick_marks,classes,rotation=45)\n",
        "  plt.yticks(tick_marks,classes,rotation=0)\n",
        "\n",
        "  if normalize:\n",
        "    cm=cm.astype('float')/am.sum(axis=1)[:,np.newaxis]\n",
        "    print(\"Normalized confusion matrix\")\n",
        "  else:\n",
        "    print(\"Confusion matrix,without normalization\")\n",
        "  \n",
        "  print(cm)\n",
        "\n",
        "  thresh=cm.max()/2\n",
        "  for i,j in itertools.product(range(cm.shape[0]),range(cm.shape[1])):\n",
        "    plt.text(j,i,cm[i,j],horizontalalignment='center',color='white' if cm[i,j]>thresh else 'black')\n",
        "  plt.tight_layout()\n",
        "  plt.ylabel('True label')\n",
        "  plt.xlabel('Predicted label')"
      ],
      "execution_count": 42,
      "outputs": []
    },
    {
      "cell_type": "code",
      "metadata": {
        "id": "c5hLWbA-azNK",
        "colab_type": "code",
        "colab": {}
      },
      "source": [
        "from sklearn.metrics import confusion_matrix\n",
        "import itertools\n",
        "cm=confusion_matrix(y_true=test_gen.classes,y_pred=np.argmax(predictions,axis=-1))"
      ],
      "execution_count": 43,
      "outputs": []
    },
    {
      "cell_type": "code",
      "metadata": {
        "id": "ZgqwXeTZa14o",
        "colab_type": "code",
        "colab": {
          "base_uri": "https://localhost:8080/",
          "height": 378
        },
        "outputId": "a420c1bf-49e9-484e-cf3f-e3cc71202e96"
      },
      "source": [
        "cm_plot_labels=['covid','normal','pnumonia']\n",
        "plot_confusion_matrix(cm=cm,classes=cm_plot_labels,title='Confusion Matrix')"
      ],
      "execution_count": 45,
      "outputs": [
        {
          "output_type": "stream",
          "text": [
            "Confusion matrix,without normalization\n",
            "[[33 42 25]\n",
            " [32 31 37]\n",
            " [29 42 29]]\n"
          ],
          "name": "stdout"
        },
        {
          "output_type": "display_data",
          "data": {
            "image/png": "[encoded data removed]",
            "text/plain": [
              "<Figure size 432x288 with 2 Axes>"
            ]
          },
          "metadata": {
            "tags": [],
            "needs_background": "light"
          }
        }
      ]
    },
    {
      "cell_type": "code",
      "metadata": {
        "id": "L-oAmnlGa_sa",
        "colab_type": "code",
        "colab": {}
      },
      "source": [
        ""
      ],
      "execution_count": null,
      "outputs": []
    }
  ]
}