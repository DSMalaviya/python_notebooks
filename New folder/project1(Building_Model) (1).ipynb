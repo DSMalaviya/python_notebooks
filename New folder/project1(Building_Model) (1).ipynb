{
  "nbformat": 4,
  "nbformat_minor": 0,
  "metadata": {
    "colab": {
      "name": "project1(Building Model).ipynb",
      "provenance": [],
      "collapsed_sections": []
    },
    "kernelspec": {
      "name": "python3",
      "display_name": "Python 3"
    },
    "accelerator": "GPU"
  },
  "cells": [
    {
      "cell_type": "markdown",
      "metadata": {
        "id": "1zwo2Z7RvKoh",
        "colab_type": "text"
      },
      "source": [
        "##building and saving model"
      ]
    },
    {
      "cell_type": "code",
      "metadata": {
        "id": "dkrug1elu2gI",
        "colab_type": "code",
        "colab": {
          "base_uri": "https://localhost:8080/",
          "height": 35
        },
        "outputId": "e7dcffb4-bc0c-4d4b-be98-0415f6a1fd27"
      },
      "source": [
        " ##download dataset from gdrive \n",
        " import shutil\n",
        " shutil.copy2('/content/drive/My Drive/Dataset/Dataset.zip','.')"
      ],
      "execution_count": null,
      "outputs": [
        {
          "output_type": "execute_result",
          "data": {
            "application/vnd.google.colaboratory.intrinsic+json": {
              "type": "string"
            },
            "text/plain": [
              "'./Dataset.zip'"
            ]
          },
          "metadata": {
            "tags": []
          },
          "execution_count": 1
        }
      ]
    },
    {
      "cell_type": "code",
      "metadata": {
        "id": "1ek9vCmwvc0K",
        "colab_type": "code",
        "colab": {
          "base_uri": "https://localhost:8080/",
          "height": 34
        },
        "outputId": "1e7d7040-7376-44eb-85c3-b3f39db2bb1b"
      },
      "source": [
        "#extract the dataset\n",
        "from zipfile import ZipFile\n",
        "fname='Dataset.zip'\n",
        "with ZipFile(fname,'r') as zip:\n",
        "  zip.extractall()\n",
        "  print('done')"
      ],
      "execution_count": null,
      "outputs": [
        {
          "output_type": "stream",
          "text": [
            "done\n"
          ],
          "name": "stdout"
        }
      ]
    },
    {
      "cell_type": "code",
      "metadata": {
        "id": "czgYvx5Evpoa",
        "colab_type": "code",
        "colab": {
          "base_uri": "https://localhost:8080/",
          "height": 35
        },
        "outputId": "8d28637d-718f-4af1-e83a-72f951c19ae9"
      },
      "source": [
        "#make folder name dataset and cut the files into it for convinence\n",
        "shutil.move('covid','dataset')\n",
        "shutil.move('normal','dataset')"
      ],
      "execution_count": null,
      "outputs": [
        {
          "output_type": "execute_result",
          "data": {
            "application/vnd.google.colaboratory.intrinsic+json": {
              "type": "string"
            },
            "text/plain": [
              "'dataset/normal'"
            ]
          },
          "metadata": {
            "tags": []
          },
          "execution_count": 3
        }
      ]
    },
    {
      "cell_type": "code",
      "metadata": {
        "id": "r8Rd-1nWwGo8",
        "colab_type": "code",
        "colab": {}
      },
      "source": [
        "#now separate train,test and validation data\n",
        "#first change the name of covid to 0 and normal to 1 manually\n",
        "import os\n",
        "import random\n",
        "os.chdir('dataset')\n",
        "if os.path.isdir('train/0/') is False:\n",
        "  os.mkdir('train')\n",
        "  os.mkdir('valid')\n",
        "  os.mkdir('test')\n",
        "\n",
        "  for i in range(0,2):\n",
        "    shutil.move(f'{i}','train')\n",
        "    os.mkdir(f'valid/{i}')\n",
        "    os.mkdir(f'test/{i}')\n",
        "    #move directory to train and make drictorys in valid and test\n",
        "    #now we have total 180 images so we take 25 for validation and 25 for test and rest of it for trainnig purpose\n",
        "\n",
        "    test_samples=random.sample(os.listdir(f'train/{i}'),25)\n",
        "    for j in test_samples:\n",
        "      shutil.move(f'train/{i}/{j}',f'test/{i}')\n",
        "\n",
        "    valid_samples=random.sample(os.listdir(f'train/{i}'),25)\n",
        "    for j in valid_samples:\n",
        "      shutil.move(f'train/{i}/{j}',f'valid/{i}') \n",
        "    \n"
      ],
      "execution_count": null,
      "outputs": []
    },
    {
      "cell_type": "code",
      "metadata": {
        "id": "7B8SQf5u0RSr",
        "colab_type": "code",
        "colab": {}
      },
      "source": [
        "os.chdir('../')"
      ],
      "execution_count": null,
      "outputs": []
    },
    {
      "cell_type": "code",
      "metadata": {
        "id": "au1mvOvP1NRr",
        "colab_type": "code",
        "colab": {
          "base_uri": "https://localhost:8080/",
          "height": 34
        },
        "outputId": "497d0892-4c71-4220-f170-e98e85af15a0"
      },
      "source": [
        "!ls"
      ],
      "execution_count": null,
      "outputs": [
        {
          "output_type": "stream",
          "text": [
            "dataset  Dataset.zip  drive  sample_data\n"
          ],
          "name": "stdout"
        }
      ]
    },
    {
      "cell_type": "code",
      "metadata": {
        "id": "wstOtDfZ201r",
        "colab_type": "code",
        "colab": {}
      },
      "source": [
        "import numpy as np\n",
        "import matplotlib.pyplot as plt\n",
        "import tensorflow as tf\n",
        "from tensorflow import keras\n",
        "from tensorflow.keras.layers import *\n",
        "from tensorflow.keras.models import *\n",
        "from tensorflow.keras.preprocessing import image"
      ],
      "execution_count": null,
      "outputs": []
    },
    {
      "cell_type": "code",
      "metadata": {
        "id": "T1E6eupD1b_D",
        "colab_type": "code",
        "colab": {}
      },
      "source": [
        "##now the dataset is completly ready for preprocessing\n",
        "#now we have only 150 images so we use image datagenerator for making more images out of it\n",
        "#here we use famous vgg16 filter\n",
        "#logically we have to apply it only for train but we used same for test and validaton(genarally we only only take preproccessing to it)\n",
        "train_datagen=image.ImageDataGenerator(\n",
        "    preprocessing_function=tf.keras.applications.vgg16.preprocess_input,\n",
        "    width_shift_range=.1,\n",
        "    height_shift_range=.1,\n",
        "    zoom_range=.2,\n",
        "    shear_range=.2,\n",
        "    horizontal_flip=True,\n",
        "                                       )\n",
        "\n",
        "test_datagen=image.ImageDataGenerator(\n",
        "    preprocessing_function=tf.keras.applications.vgg16.preprocess_input,\n",
        "    width_shift_range=.1,\n",
        "    height_shift_range=.1,\n",
        "    zoom_range=.2,\n",
        "    shear_range=.2,\n",
        "    horizontal_flip=True,\n",
        "                                       )\n",
        "\n",
        "valid_datagen=image.ImageDataGenerator(\n",
        "    preprocessing_function=tf.keras.applications.vgg16.preprocess_input,\n",
        "    width_shift_range=.1,\n",
        "    height_shift_range=.1,\n",
        "    zoom_range=.2,\n",
        "    shear_range=.2,\n",
        "    horizontal_flip=True,\n",
        "                                       )"
      ],
      "execution_count": null,
      "outputs": []
    },
    {
      "cell_type": "code",
      "metadata": {
        "id": "RUXerWgn55Vf",
        "colab_type": "code",
        "colab": {}
      },
      "source": [
        "train_path='dataset/train'\n",
        "valid_path='dataset/valid'\n",
        "test_path='dataset/test'"
      ],
      "execution_count": null,
      "outputs": []
    },
    {
      "cell_type": "code",
      "metadata": {
        "id": "22AZFZcc6cae",
        "colab_type": "code",
        "colab": {
          "base_uri": "https://localhost:8080/",
          "height": 67
        },
        "outputId": "961ab320-dd19-43ef-cd9f-bd0dd889754e"
      },
      "source": [
        "train_gen=train_datagen.flow_from_directory(\n",
        "    train_path,\n",
        "    target_size=(448,448),\n",
        "    batch_size=32,\n",
        ")\n",
        "\n",
        "test_gen=test_datagen.flow_from_directory(\n",
        "    test_path,\n",
        "    target_size=(448,448),\n",
        "    batch_size=32,\n",
        ")\n",
        "\n",
        "valid_gen=valid_datagen.flow_from_directory(\n",
        "    valid_path,\n",
        "    target_size=(448,448),\n",
        "    batch_size=32,\n",
        ")"
      ],
      "execution_count": null,
      "outputs": [
        {
          "output_type": "stream",
          "text": [
            "Found 260 images belonging to 2 classes.\n",
            "Found 50 images belonging to 2 classes.\n",
            "Found 50 images belonging to 2 classes.\n"
          ],
          "name": "stdout"
        }
      ]
    },
    {
      "cell_type": "code",
      "metadata": {
        "id": "nPNhJ8-S8uec",
        "colab_type": "code",
        "colab": {
          "base_uri": "https://localhost:8080/",
          "height": 34
        },
        "outputId": "1c75b1ce-92b5-4fea-ade5-045ee596636c"
      },
      "source": [
        "train_gen.class_indices"
      ],
      "execution_count": null,
      "outputs": [
        {
          "output_type": "execute_result",
          "data": {
            "text/plain": [
              "{'0': 0, '1': 1}"
            ]
          },
          "metadata": {
            "tags": []
          },
          "execution_count": 16
        }
      ]
    },
    {
      "cell_type": "code",
      "metadata": {
        "id": "aGciTq5b85po",
        "colab_type": "code",
        "colab": {}
      },
      "source": [
        "model=Sequential()\n",
        "model.add(Conv2D(32,kernel_size=(3,3),activation='relu',input_shape=(448,448,3)))\n",
        "model.add(Conv2D(32,(3,3),activation='relu'))\n",
        "model.add(MaxPooling2D(pool_size=(2,2)))\n",
        "model.add(Dropout(.25))\n",
        "\n",
        "model.add(Conv2D(64,(3,3),activation='relu'))\n",
        "model.add(MaxPooling2D(pool_size=(2,2)))\n",
        "model.add(Dropout(.25))\n",
        "\n",
        "model.add(Conv2D(64,(3,3),activation='relu'))\n",
        "model.add(MaxPooling2D(pool_size=(2,2)))\n",
        "model.add(Dropout(.25))\n",
        "\n",
        "model.add(Conv2D(128,(3,3),activation='relu'))\n",
        "model.add(MaxPooling2D(pool_size=(2,2)))\n",
        "model.add(Dropout(.25))\n",
        "\n",
        "model.add(Flatten())\n",
        "model.add(Dense(2048,activation='relu'))\n",
        "model.add(Dropout(.5))\n",
        "\n",
        "model.add(Dense(512,activation='relu'))\n",
        "model.add(Dropout(.5))\n",
        "\n",
        "model.add(Dense(64,activation='relu'))\n",
        "model.add(Dropout(.5))\n",
        "\n",
        "model.add(Dense(16,activation='relu'))\n",
        "model.add(Dropout(.5))\n",
        "\n",
        "model.add(Dense(2,activation='softmax'))"
      ],
      "execution_count": null,
      "outputs": []
    },
    {
      "cell_type": "code",
      "metadata": {
        "id": "bJZtkaM1APtD",
        "colab_type": "code",
        "colab": {}
      },
      "source": [
        "from tensorflow.keras.optimizers import Adam\n",
        "model.compile(loss=keras.losses.categorical_crossentropy,optimizer=Adam(learning_rate=0.0001),metrics=['accuracy'])"
      ],
      "execution_count": null,
      "outputs": []
    },
    {
      "cell_type": "code",
      "metadata": {
        "id": "hPeqg-6nA6hq",
        "colab_type": "code",
        "colab": {
          "base_uri": "https://localhost:8080/",
          "height": 924
        },
        "outputId": "398d176d-3529-4685-b6fe-d592d6a1ada9"
      },
      "source": [
        "model.summary()"
      ],
      "execution_count": null,
      "outputs": [
        {
          "output_type": "stream",
          "text": [
            "Model: \"sequential\"\n",
            "_________________________________________________________________\n",
            "Layer (type)                 Output Shape              Param #   \n",
            "=================================================================\n",
            "conv2d (Conv2D)              (None, 446, 446, 32)      896       \n",
            "_________________________________________________________________\n",
            "conv2d_1 (Conv2D)            (None, 444, 444, 32)      9248      \n",
            "_________________________________________________________________\n",
            "max_pooling2d (MaxPooling2D) (None, 222, 222, 32)      0         \n",
            "_________________________________________________________________\n",
            "dropout (Dropout)            (None, 222, 222, 32)      0         \n",
            "_________________________________________________________________\n",
            "conv2d_2 (Conv2D)            (None, 220, 220, 64)      18496     \n",
            "_________________________________________________________________\n",
            "max_pooling2d_1 (MaxPooling2 (None, 110, 110, 64)      0         \n",
            "_________________________________________________________________\n",
            "dropout_1 (Dropout)          (None, 110, 110, 64)      0         \n",
            "_________________________________________________________________\n",
            "conv2d_3 (Conv2D)            (None, 108, 108, 64)      36928     \n",
            "_________________________________________________________________\n",
            "max_pooling2d_2 (MaxPooling2 (None, 54, 54, 64)        0         \n",
            "_________________________________________________________________\n",
            "dropout_2 (Dropout)          (None, 54, 54, 64)        0         \n",
            "_________________________________________________________________\n",
            "conv2d_4 (Conv2D)            (None, 52, 52, 128)       73856     \n",
            "_________________________________________________________________\n",
            "max_pooling2d_3 (MaxPooling2 (None, 26, 26, 128)       0         \n",
            "_________________________________________________________________\n",
            "dropout_3 (Dropout)          (None, 26, 26, 128)       0         \n",
            "_________________________________________________________________\n",
            "flatten (Flatten)            (None, 86528)             0         \n",
            "_________________________________________________________________\n",
            "dense (Dense)                (None, 2048)              177211392 \n",
            "_________________________________________________________________\n",
            "dropout_4 (Dropout)          (None, 2048)              0         \n",
            "_________________________________________________________________\n",
            "dense_1 (Dense)              (None, 512)               1049088   \n",
            "_________________________________________________________________\n",
            "dropout_5 (Dropout)          (None, 512)               0         \n",
            "_________________________________________________________________\n",
            "dense_2 (Dense)              (None, 64)                32832     \n",
            "_________________________________________________________________\n",
            "dropout_6 (Dropout)          (None, 64)                0         \n",
            "_________________________________________________________________\n",
            "dense_3 (Dense)              (None, 16)                1040      \n",
            "_________________________________________________________________\n",
            "dropout_7 (Dropout)          (None, 16)                0         \n",
            "_________________________________________________________________\n",
            "dense_4 (Dense)              (None, 2)                 34        \n",
            "=================================================================\n",
            "Total params: 178,433,810\n",
            "Trainable params: 178,433,810\n",
            "Non-trainable params: 0\n",
            "_________________________________________________________________\n"
          ],
          "name": "stdout"
        }
      ]
    },
    {
      "cell_type": "code",
      "metadata": {
        "id": "wJPIa-M3A-iN",
        "colab_type": "code",
        "colab": {
          "base_uri": "https://localhost:8080/",
          "height": 554
        },
        "outputId": "d816aa6b-6f3f-4d12-c72f-4253bc669504"
      },
      "source": [
        "model.fit(x=train_gen,validation_data=valid_gen,steps_per_epoch=8,epochs=15,verbose=2)"
      ],
      "execution_count": null,
      "outputs": [
        {
          "output_type": "stream",
          "text": [
            "Epoch 1/15\n",
            "WARNING:tensorflow:Callbacks method `on_train_batch_end` is slow compared to the batch time (batch time: 0.0707s vs `on_train_batch_end` time: 0.1206s). Check your callbacks.\n",
            "8/8 - 19s - loss: 64.2611 - accuracy: 0.5439 - val_loss: 0.8328 - val_accuracy: 0.5400\n",
            "Epoch 2/15\n",
            "8/8 - 18s - loss: 38.4446 - accuracy: 0.5088 - val_loss: 0.7200 - val_accuracy: 0.5000\n",
            "Epoch 3/15\n",
            "8/8 - 18s - loss: 16.3634 - accuracy: 0.4956 - val_loss: 0.6920 - val_accuracy: 0.6000\n",
            "Epoch 4/15\n",
            "8/8 - 18s - loss: 8.9785 - accuracy: 0.5088 - val_loss: 0.7193 - val_accuracy: 0.2400\n",
            "Epoch 5/15\n",
            "8/8 - 18s - loss: 8.7916 - accuracy: 0.4956 - val_loss: 0.7130 - val_accuracy: 0.1000\n",
            "Epoch 6/15\n",
            "8/8 - 18s - loss: 4.4356 - accuracy: 0.5044 - val_loss: 0.7023 - val_accuracy: 0.2000\n",
            "Epoch 7/15\n",
            "8/8 - 18s - loss: 3.7336 - accuracy: 0.5195 - val_loss: 0.6997 - val_accuracy: 0.2800\n",
            "Epoch 8/15\n",
            "8/8 - 18s - loss: 2.8100 - accuracy: 0.4605 - val_loss: 0.6980 - val_accuracy: 0.2400\n",
            "Epoch 9/15\n",
            "8/8 - 18s - loss: 1.8200 - accuracy: 0.4961 - val_loss: 0.6960 - val_accuracy: 0.5200\n",
            "Epoch 10/15\n",
            "8/8 - 18s - loss: 1.4196 - accuracy: 0.5175 - val_loss: 0.6934 - val_accuracy: 0.5000\n",
            "Epoch 11/15\n",
            "8/8 - 18s - loss: 1.3255 - accuracy: 0.5088 - val_loss: 0.6928 - val_accuracy: 0.5000\n",
            "Epoch 12/15\n",
            "8/8 - 19s - loss: 1.0734 - accuracy: 0.5263 - val_loss: 0.6929 - val_accuracy: 0.5000\n",
            "Epoch 13/15\n",
            "8/8 - 17s - loss: 0.8875 - accuracy: 0.5175 - val_loss: 0.6935 - val_accuracy: 0.5000\n",
            "Epoch 14/15\n",
            "8/8 - 17s - loss: 0.9444 - accuracy: 0.5482 - val_loss: 0.6934 - val_accuracy: 0.5000\n",
            "Epoch 15/15\n",
            "8/8 - 17s - loss: 0.9118 - accuracy: 0.5395 - val_loss: 0.6940 - val_accuracy: 0.4600\n"
          ],
          "name": "stdout"
        },
        {
          "output_type": "execute_result",
          "data": {
            "text/plain": [
              "<tensorflow.python.keras.callbacks.History at 0x7f27127a4780>"
            ]
          },
          "metadata": {
            "tags": []
          },
          "execution_count": 20
        }
      ]
    },
    {
      "cell_type": "code",
      "metadata": {
        "id": "E6JU01hrB1OZ",
        "colab_type": "code",
        "colab": {
          "base_uri": "https://localhost:8080/",
          "height": 857
        },
        "outputId": "6c07ffa5-61bb-4485-a7bb-4212affd5e37"
      },
      "source": [
        "model.predict(test_gen)"
      ],
      "execution_count": null,
      "outputs": [
        {
          "output_type": "execute_result",
          "data": {
            "text/plain": [
              "array([[0.4963607 , 0.50363934],\n",
              "       [0.49618277, 0.5038172 ],\n",
              "       [0.49760586, 0.50239414],\n",
              "       [0.49677995, 0.5032201 ],\n",
              "       [0.49503353, 0.5049665 ],\n",
              "       [0.49548402, 0.50451595],\n",
              "       [0.49695832, 0.5030417 ],\n",
              "       [0.49579751, 0.5042025 ],\n",
              "       [0.49580908, 0.5041909 ],\n",
              "       [0.49552643, 0.50447357],\n",
              "       [0.4964437 , 0.5035563 ],\n",
              "       [0.49578434, 0.50421566],\n",
              "       [0.49778852, 0.50221145],\n",
              "       [0.4978315 , 0.5021685 ],\n",
              "       [0.5010125 , 0.49898744],\n",
              "       [0.5000668 , 0.4999332 ],\n",
              "       [0.49733117, 0.50266886],\n",
              "       [0.49620298, 0.50379705],\n",
              "       [0.49606344, 0.5039365 ],\n",
              "       [0.49681866, 0.5031813 ],\n",
              "       [0.4965728 , 0.50342715],\n",
              "       [0.4959005 , 0.5040994 ],\n",
              "       [0.49863023, 0.5013698 ],\n",
              "       [0.49733642, 0.5026636 ],\n",
              "       [0.49667972, 0.5033203 ],\n",
              "       [0.49831438, 0.5016856 ],\n",
              "       [0.49788517, 0.50211483],\n",
              "       [0.4971767 , 0.5028233 ],\n",
              "       [0.4966976 , 0.5033024 ],\n",
              "       [0.49713972, 0.50286025],\n",
              "       [0.49565896, 0.504341  ],\n",
              "       [0.4970605 , 0.50293946],\n",
              "       [0.4966859 , 0.50331414],\n",
              "       [0.49785933, 0.5021407 ],\n",
              "       [0.49582297, 0.5041771 ],\n",
              "       [0.49599656, 0.50400347],\n",
              "       [0.49640945, 0.5035906 ],\n",
              "       [0.49715382, 0.5028462 ],\n",
              "       [0.4958629 , 0.5041371 ],\n",
              "       [0.49794945, 0.5020506 ],\n",
              "       [0.49662125, 0.50337875],\n",
              "       [0.49740615, 0.5025939 ],\n",
              "       [0.4967809 , 0.50321907],\n",
              "       [0.49545455, 0.50454545],\n",
              "       [0.4970342 , 0.5029658 ],\n",
              "       [0.49735683, 0.50264317],\n",
              "       [0.49789926, 0.5021007 ],\n",
              "       [0.49582127, 0.50417876],\n",
              "       [0.4953815 , 0.5046185 ],\n",
              "       [0.49617103, 0.503829  ]], dtype=float32)"
            ]
          },
          "metadata": {
            "tags": []
          },
          "execution_count": 21
        }
      ]
    },
    {
      "cell_type": "code",
      "metadata": {
        "id": "kRZy9NDcDKLZ",
        "colab_type": "code",
        "colab": {}
      },
      "source": [
        "##after shwong above outputs the model is not accurate at predictions\n",
        "##so i tried another model"
      ],
      "execution_count": null,
      "outputs": []
    },
    {
      "cell_type": "code",
      "metadata": {
        "id": "-3O0llBzEOkm",
        "colab_type": "code",
        "colab": {}
      },
      "source": [
        ""
      ],
      "execution_count": null,
      "outputs": []
    }
  ]
}