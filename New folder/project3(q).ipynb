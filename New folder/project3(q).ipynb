{
  "nbformat": 4,
  "nbformat_minor": 0,
  "metadata": {
    "colab": {
      "name": "project3(q).ipynb",
      "provenance": [],
      "toc_visible": true
    },
    "kernelspec": {
      "name": "python3",
      "display_name": "Python 3"
    },
    "accelerator": "GPU"
  },
  "cells": [
    {
      "cell_type": "markdown",
      "metadata": {
        "id": "j7ZOK75x5WRq",
        "colab_type": "text"
      },
      "source": [
        "## vgg16 finetuneing\n"
      ]
    },
    {
      "cell_type": "code",
      "metadata": {
        "id": "bVq1C4nh4-D7",
        "colab_type": "code",
        "colab": {}
      },
      "source": [
        "import os\n",
        "import shutil"
      ],
      "execution_count": null,
      "outputs": []
    },
    {
      "cell_type": "code",
      "metadata": {
        "id": "IuVicNrC7cww",
        "colab_type": "code",
        "colab": {}
      },
      "source": [
        "os.environ['KAGGLE_CONFIG_DIR']=\"/content\""
      ],
      "execution_count": null,
      "outputs": []
    },
    {
      "cell_type": "code",
      "metadata": {
        "id": "pz0IJKl57t53",
        "colab_type": "code",
        "colab": {
          "base_uri": "https://localhost:8080/",
          "height": 84
        },
        "outputId": "adbe836d-256e-44c6-f420-23757730ec39"
      },
      "source": [
        "!kaggle datasets download -d amanullahasraf/covid19-pneumonia-normal-chest-xraypa-dataset"
      ],
      "execution_count": null,
      "outputs": [
        {
          "output_type": "stream",
          "text": [
            "Warning: Your Kaggle API key is readable by other users on this system! To fix this, you can run 'chmod 600 /content/kaggle.json'\n",
            "Downloading covid19-pneumonia-normal-chest-xraypa-dataset.zip to /content\n",
            "100% 1.33G/1.34G [00:43<00:00, 27.4MB/s]\n",
            "100% 1.34G/1.34G [00:44<00:00, 32.4MB/s]\n"
          ],
          "name": "stdout"
        }
      ]
    },
    {
      "cell_type": "code",
      "metadata": {
        "id": "ArQl2q057x19",
        "colab_type": "code",
        "colab": {
          "base_uri": "https://localhost:8080/",
          "height": 34
        },
        "outputId": "9d9cae71-8df2-43f4-8844-8537f3820315"
      },
      "source": [
        "from zipfile import ZipFile\n",
        "fname='/content/covid19-pneumonia-normal-chest-xraypa-dataset.zip'\n",
        "with ZipFile(fname,'r') as zip:\n",
        "  zip.extractall()\n",
        "  print('done')"
      ],
      "execution_count": null,
      "outputs": [
        {
          "output_type": "stream",
          "text": [
            "done\n"
          ],
          "name": "stdout"
        }
      ]
    },
    {
      "cell_type": "code",
      "metadata": {
        "id": "OhtMRycn8Krb",
        "colab_type": "code",
        "colab": {}
      },
      "source": [
        "# os.mkdir('Dataset')\n",
        "# shutil.move('covid','Dataset')\n",
        "# shutil.move('normal','Dataset')\n",
        "# shutil.move('pneumonia','Dataset')"
      ],
      "execution_count": null,
      "outputs": []
    },
    {
      "cell_type": "code",
      "metadata": {
        "id": "MLF8cG8Y8gsB",
        "colab_type": "code",
        "colab": {}
      },
      "source": [
        "os.chdir('Dataset')\n",
        "os.rename('covid','0')\n",
        "os.rename('normal','1')\n",
        "os.rename('pneumonia','2')\n",
        "\n",
        "os.chdir('../')"
      ],
      "execution_count": null,
      "outputs": []
    },
    {
      "cell_type": "code",
      "metadata": {
        "id": "7GPX_xd18jJJ",
        "colab_type": "code",
        "colab": {}
      },
      "source": [
        "# os.chdir('../')"
      ],
      "execution_count": null,
      "outputs": []
    },
    {
      "cell_type": "code",
      "metadata": {
        "id": "qYe4uose8oJ0",
        "colab_type": "code",
        "colab": {}
      },
      "source": [
        "import random\n",
        "os.chdir('Dataset')\n",
        "if os.path.isdir('train/0/') is False:\n",
        "  os.mkdir('train')\n",
        "  os.mkdir('test')\n",
        "  os.mkdir('valid')\n",
        "\n",
        "  for i in range(0,3):\n",
        "    shutil.move(f'{i}','train')\n",
        "    os.mkdir(f'test/{i}')\n",
        "    os.mkdir(f'valid/{i}')\n",
        "\n",
        "\n",
        "    test_samples=random.sample(os.listdir(f'train/{i}'),100)\n",
        "    for j in test_samples:\n",
        "      shutil.move(f'train/{i}/{j}',f'test/{i}')\n",
        "\n",
        "    valid_samples=random.sample(os.listdir(f'train/{i}'),200)\n",
        "    for j in valid_samples:\n",
        "      shutil.move(f'train/{i}/{j}',f'valid/{i}') \n",
        "\n",
        "os.chdir(\"../\")"
      ],
      "execution_count": null,
      "outputs": []
    },
    {
      "cell_type": "code",
      "metadata": {
        "id": "JuaEA4xaBb0D",
        "colab_type": "code",
        "colab": {}
      },
      "source": [
        "import numpy as np\n",
        "import matplotlib.pyplot as plt\n",
        "import tensorflow as tf\n",
        "from tensorflow import keras\n",
        "from tensorflow.keras.layers import *\n",
        "from tensorflow.keras.models import *\n",
        "from tensorflow.keras.preprocessing import image"
      ],
      "execution_count": null,
      "outputs": []
    },
    {
      "cell_type": "code",
      "metadata": {
        "id": "r13BkkugBhBr",
        "colab_type": "code",
        "colab": {}
      },
      "source": [
        "train_datagen=image.ImageDataGenerator(\n",
        "    preprocessing_function=tf.keras.applications.vgg16.preprocess_input,\n",
        "    width_shift_range=.1,\n",
        "    height_shift_range=.1,\n",
        "    zoom_range=.2,\n",
        "    shear_range=.2,\n",
        "    horizontal_flip=True\n",
        "                                       )\n",
        "\n",
        "test_datagen=image.ImageDataGenerator(\n",
        "    preprocessing_function=tf.keras.applications.vgg16.preprocess_input\n",
        "                                       )\n",
        "valid_datagen=image.ImageDataGenerator(\n",
        "    preprocessing_function=tf.keras.applications.vgg16.preprocess_input\n",
        "                                       )"
      ],
      "execution_count": null,
      "outputs": []
    },
    {
      "cell_type": "code",
      "metadata": {
        "id": "jSUugS5rBqPm",
        "colab_type": "code",
        "colab": {}
      },
      "source": [
        "train_path='Dataset/train'\n",
        "test_path='Dataset/test'\n",
        "valid_path='Dataset/valid'"
      ],
      "execution_count": null,
      "outputs": []
    },
    {
      "cell_type": "code",
      "metadata": {
        "id": "1crMWheKBthZ",
        "colab_type": "code",
        "colab": {
          "base_uri": "https://localhost:8080/",
          "height": 67
        },
        "outputId": "9b549d49-aa7a-4dce-af37-f253da4269fd"
      },
      "source": [
        "train_gen=train_datagen.flow_from_directory(\n",
        "    train_path,\n",
        "    target_size=(224,224),\n",
        "    batch_size=32,\n",
        "    color_mode='rgb'\n",
        ")\n",
        "\n",
        "test_gen=test_datagen.flow_from_directory(\n",
        "    test_path,\n",
        "    target_size=(224,224),\n",
        "    batch_size=32,\n",
        "    color_mode='rgb'\n",
        ")\n",
        "\n",
        "valid_gen=valid_datagen.flow_from_directory(\n",
        "    valid_path,\n",
        "    target_size=(224,224),\n",
        "    batch_size=32,\n",
        "    color_mode='rgb'\n",
        ")"
      ],
      "execution_count": null,
      "outputs": [
        {
          "output_type": "stream",
          "text": [
            "Found 3675 images belonging to 3 classes.\n",
            "Found 300 images belonging to 3 classes.\n",
            "Found 600 images belonging to 3 classes.\n"
          ],
          "name": "stdout"
        }
      ]
    },
    {
      "cell_type": "code",
      "metadata": {
        "id": "goYzBiCDBwlR",
        "colab_type": "code",
        "colab": {}
      },
      "source": [
        "vgg16_model=tf.keras.applications.vgg16.VGG16(include_top=False,weights='imagenet',input_tensor=Input(shape=(224,224,3)))"
      ],
      "execution_count": null,
      "outputs": []
    },
    {
      "cell_type": "code",
      "metadata": {
        "id": "qCRzqsVWCFJq",
        "colab_type": "code",
        "colab": {
          "base_uri": "https://localhost:8080/",
          "height": 790
        },
        "outputId": "59c785c0-04ee-4039-ddf2-0230e61f32bb"
      },
      "source": [
        "vgg16_model.summary()"
      ],
      "execution_count": null,
      "outputs": [
        {
          "output_type": "stream",
          "text": [
            "Model: \"vgg16\"\n",
            "_________________________________________________________________\n",
            "Layer (type)                 Output Shape              Param #   \n",
            "=================================================================\n",
            "input_2 (InputLayer)         [(None, 224, 224, 3)]     0         \n",
            "_________________________________________________________________\n",
            "block1_conv1 (Conv2D)        (None, 224, 224, 64)      1792      \n",
            "_________________________________________________________________\n",
            "block1_conv2 (Conv2D)        (None, 224, 224, 64)      36928     \n",
            "_________________________________________________________________\n",
            "block1_pool (MaxPooling2D)   (None, 112, 112, 64)      0         \n",
            "_________________________________________________________________\n",
            "block2_conv1 (Conv2D)        (None, 112, 112, 128)     73856     \n",
            "_________________________________________________________________\n",
            "block2_conv2 (Conv2D)        (None, 112, 112, 128)     147584    \n",
            "_________________________________________________________________\n",
            "block2_pool (MaxPooling2D)   (None, 56, 56, 128)       0         \n",
            "_________________________________________________________________\n",
            "block3_conv1 (Conv2D)        (None, 56, 56, 256)       295168    \n",
            "_________________________________________________________________\n",
            "block3_conv2 (Conv2D)        (None, 56, 56, 256)       590080    \n",
            "_________________________________________________________________\n",
            "block3_conv3 (Conv2D)        (None, 56, 56, 256)       590080    \n",
            "_________________________________________________________________\n",
            "block3_pool (MaxPooling2D)   (None, 28, 28, 256)       0         \n",
            "_________________________________________________________________\n",
            "block4_conv1 (Conv2D)        (None, 28, 28, 512)       1180160   \n",
            "_________________________________________________________________\n",
            "block4_conv2 (Conv2D)        (None, 28, 28, 512)       2359808   \n",
            "_________________________________________________________________\n",
            "block4_conv3 (Conv2D)        (None, 28, 28, 512)       2359808   \n",
            "_________________________________________________________________\n",
            "block4_pool (MaxPooling2D)   (None, 14, 14, 512)       0         \n",
            "_________________________________________________________________\n",
            "block5_conv1 (Conv2D)        (None, 14, 14, 512)       2359808   \n",
            "_________________________________________________________________\n",
            "block5_conv2 (Conv2D)        (None, 14, 14, 512)       2359808   \n",
            "_________________________________________________________________\n",
            "block5_conv3 (Conv2D)        (None, 14, 14, 512)       2359808   \n",
            "_________________________________________________________________\n",
            "block5_pool (MaxPooling2D)   (None, 7, 7, 512)         0         \n",
            "=================================================================\n",
            "Total params: 14,714,688\n",
            "Trainable params: 14,714,688\n",
            "Non-trainable params: 0\n",
            "_________________________________________________________________\n"
          ],
          "name": "stdout"
        }
      ]
    },
    {
      "cell_type": "code",
      "metadata": {
        "id": "wSZDB9f3CJWt",
        "colab_type": "code",
        "colab": {}
      },
      "source": [
        " model=Sequential()\n",
        " for layer in vgg16_model.layers:\n",
        "   model.add(layer)"
      ],
      "execution_count": null,
      "outputs": []
    },
    {
      "cell_type": "code",
      "metadata": {
        "id": "OepXxxxKCdt8",
        "colab_type": "code",
        "colab": {}
      },
      "source": [
        "for layer in model.layers:\n",
        "  layer.trainable=False"
      ],
      "execution_count": null,
      "outputs": []
    },
    {
      "cell_type": "code",
      "metadata": {
        "id": "9AbUoBTwChSg",
        "colab_type": "code",
        "colab": {}
      },
      "source": [
        "# model.add(AveragePooling2D(pool_size=(4,4))\n",
        "model.add(Flatten())\n",
        "model.add(Dense(64,activation='relu'))\n",
        "model.add(Dropout(0.5))\n",
        "model.add(Dense(3,activation='softmax'))"
      ],
      "execution_count": null,
      "outputs": []
    },
    {
      "cell_type": "code",
      "metadata": {
        "id": "eL_r8NOqDcBH",
        "colab_type": "code",
        "colab": {}
      },
      "source": [
        "import numpy as np\n",
        "import matplotlib.pyplot as plt\n",
        "import tensorflow as tf\n",
        "from tensorflow import keras\n",
        "from tensorflow.keras.layers import *\n",
        "from tensorflow.keras.models import *\n",
        "from tensorflow.keras.preprocessing import image"
      ],
      "execution_count": null,
      "outputs": []
    },
    {
      "cell_type": "code",
      "metadata": {
        "id": "spxxI-GWDl7m",
        "colab_type": "code",
        "colab": {
          "base_uri": "https://localhost:8080/",
          "height": 890
        },
        "outputId": "3d250fb0-bf28-4be5-889a-b8aad1945f4c"
      },
      "source": [
        "model.summary()"
      ],
      "execution_count": null,
      "outputs": [
        {
          "output_type": "stream",
          "text": [
            "Model: \"sequential_2\"\n",
            "_________________________________________________________________\n",
            "Layer (type)                 Output Shape              Param #   \n",
            "=================================================================\n",
            "block1_conv1 (Conv2D)        (None, 224, 224, 64)      1792      \n",
            "_________________________________________________________________\n",
            "block1_conv2 (Conv2D)        (None, 224, 224, 64)      36928     \n",
            "_________________________________________________________________\n",
            "block1_pool (MaxPooling2D)   (None, 112, 112, 64)      0         \n",
            "_________________________________________________________________\n",
            "block2_conv1 (Conv2D)        (None, 112, 112, 128)     73856     \n",
            "_________________________________________________________________\n",
            "block2_conv2 (Conv2D)        (None, 112, 112, 128)     147584    \n",
            "_________________________________________________________________\n",
            "block2_pool (MaxPooling2D)   (None, 56, 56, 128)       0         \n",
            "_________________________________________________________________\n",
            "block3_conv1 (Conv2D)        (None, 56, 56, 256)       295168    \n",
            "_________________________________________________________________\n",
            "block3_conv2 (Conv2D)        (None, 56, 56, 256)       590080    \n",
            "_________________________________________________________________\n",
            "block3_conv3 (Conv2D)        (None, 56, 56, 256)       590080    \n",
            "_________________________________________________________________\n",
            "block3_pool (MaxPooling2D)   (None, 28, 28, 256)       0         \n",
            "_________________________________________________________________\n",
            "block4_conv1 (Conv2D)        (None, 28, 28, 512)       1180160   \n",
            "_________________________________________________________________\n",
            "block4_conv2 (Conv2D)        (None, 28, 28, 512)       2359808   \n",
            "_________________________________________________________________\n",
            "block4_conv3 (Conv2D)        (None, 28, 28, 512)       2359808   \n",
            "_________________________________________________________________\n",
            "block4_pool (MaxPooling2D)   (None, 14, 14, 512)       0         \n",
            "_________________________________________________________________\n",
            "block5_conv1 (Conv2D)        (None, 14, 14, 512)       2359808   \n",
            "_________________________________________________________________\n",
            "block5_conv2 (Conv2D)        (None, 14, 14, 512)       2359808   \n",
            "_________________________________________________________________\n",
            "block5_conv3 (Conv2D)        (None, 14, 14, 512)       2359808   \n",
            "_________________________________________________________________\n",
            "block5_pool (MaxPooling2D)   (None, 7, 7, 512)         0         \n",
            "_________________________________________________________________\n",
            "flatten_1 (Flatten)          (None, 25088)             0         \n",
            "_________________________________________________________________\n",
            "dense_1 (Dense)              (None, 64)                1605696   \n",
            "_________________________________________________________________\n",
            "dropout (Dropout)            (None, 64)                0         \n",
            "_________________________________________________________________\n",
            "dense_2 (Dense)              (None, 3)                 195       \n",
            "=================================================================\n",
            "Total params: 16,320,579\n",
            "Trainable params: 1,605,891\n",
            "Non-trainable params: 14,714,688\n",
            "_________________________________________________________________\n"
          ],
          "name": "stdout"
        }
      ]
    },
    {
      "cell_type": "code",
      "metadata": {
        "id": "A02kOsY9Eo0r",
        "colab_type": "code",
        "colab": {}
      },
      "source": [
        "model.compile(optimizer='adam',loss='categorical_crossentropy',metrics=['accuracy'])"
      ],
      "execution_count": null,
      "outputs": []
    },
    {
      "cell_type": "code",
      "metadata": {
        "id": "cBIFd8NTGCVj",
        "colab_type": "code",
        "colab": {
          "base_uri": "https://localhost:8080/",
          "height": 706
        },
        "outputId": "00f02c4d-4f35-4c02-af00-571973f6c923"
      },
      "source": [
        "model.fit(train_gen,validation_data=valid_gen,epochs=20,batch_size=128,shuffle=True,verbose=2)"
      ],
      "execution_count": null,
      "outputs": [
        {
          "output_type": "stream",
          "text": [
            "Epoch 1/20\n",
            "115/115 - 96s - loss: 1.8129 - accuracy: 0.7679 - val_loss: 0.3829 - val_accuracy: 0.8583\n",
            "Epoch 2/20\n",
            "115/115 - 92s - loss: 0.5260 - accuracy: 0.8082 - val_loss: 0.2556 - val_accuracy: 0.9050\n",
            "Epoch 3/20\n",
            "115/115 - 92s - loss: 0.4870 - accuracy: 0.8324 - val_loss: 0.2318 - val_accuracy: 0.9150\n",
            "Epoch 4/20\n",
            "115/115 - 90s - loss: 0.4597 - accuracy: 0.8239 - val_loss: 0.2357 - val_accuracy: 0.9200\n",
            "Epoch 5/20\n",
            "115/115 - 92s - loss: 0.4274 - accuracy: 0.8661 - val_loss: 0.1915 - val_accuracy: 0.9367\n",
            "Epoch 6/20\n",
            "115/115 - 93s - loss: 0.4064 - accuracy: 0.8612 - val_loss: 0.2380 - val_accuracy: 0.9083\n",
            "Epoch 7/20\n",
            "115/115 - 92s - loss: 0.3722 - accuracy: 0.8669 - val_loss: 0.2384 - val_accuracy: 0.9233\n",
            "Epoch 8/20\n",
            "115/115 - 92s - loss: 0.3878 - accuracy: 0.8659 - val_loss: 0.2078 - val_accuracy: 0.9233\n",
            "Epoch 9/20\n",
            "115/115 - 92s - loss: 0.3737 - accuracy: 0.8729 - val_loss: 0.1907 - val_accuracy: 0.9300\n",
            "Epoch 10/20\n",
            "115/115 - 90s - loss: 0.3745 - accuracy: 0.8688 - val_loss: 0.2006 - val_accuracy: 0.9267\n",
            "Epoch 11/20\n",
            "115/115 - 90s - loss: 0.3366 - accuracy: 0.8751 - val_loss: 0.2074 - val_accuracy: 0.9333\n",
            "Epoch 12/20\n",
            "115/115 - 90s - loss: 0.3528 - accuracy: 0.8824 - val_loss: 0.2227 - val_accuracy: 0.9283\n",
            "Epoch 13/20\n",
            "115/115 - 90s - loss: 0.3387 - accuracy: 0.8879 - val_loss: 0.2865 - val_accuracy: 0.9250\n",
            "Epoch 14/20\n",
            "115/115 - 90s - loss: 0.3491 - accuracy: 0.8882 - val_loss: 0.1959 - val_accuracy: 0.9300\n",
            "Epoch 15/20\n",
            "115/115 - 90s - loss: 0.3347 - accuracy: 0.8879 - val_loss: 0.1993 - val_accuracy: 0.9333\n",
            "Epoch 16/20\n",
            "115/115 - 93s - loss: 0.3230 - accuracy: 0.8914 - val_loss: 0.1870 - val_accuracy: 0.9300\n",
            "Epoch 17/20\n",
            "115/115 - 93s - loss: 0.3214 - accuracy: 0.8925 - val_loss: 0.1894 - val_accuracy: 0.9350\n",
            "Epoch 18/20\n",
            "115/115 - 93s - loss: 0.2955 - accuracy: 0.8955 - val_loss: 0.1763 - val_accuracy: 0.9367\n",
            "Epoch 19/20\n",
            "115/115 - 94s - loss: 0.3308 - accuracy: 0.8933 - val_loss: 0.2180 - val_accuracy: 0.9267\n",
            "Epoch 20/20\n",
            "115/115 - 93s - loss: 0.3188 - accuracy: 0.8906 - val_loss: 0.2297 - val_accuracy: 0.9250\n"
          ],
          "name": "stdout"
        },
        {
          "output_type": "execute_result",
          "data": {
            "text/plain": [
              "<tensorflow.python.keras.callbacks.History at 0x7fe6671fd470>"
            ]
          },
          "metadata": {
            "tags": []
          },
          "execution_count": 39
        }
      ]
    },
    {
      "cell_type": "code",
      "metadata": {
        "id": "muEWeighGF2H",
        "colab_type": "code",
        "colab": {}
      },
      "source": [
        "predictions=model.predict(test_gen)"
      ],
      "execution_count": null,
      "outputs": []
    },
    {
      "cell_type": "code",
      "metadata": {
        "id": "rUKMu2Z_NkuV",
        "colab_type": "code",
        "colab": {}
      },
      "source": [
        "def plot_confusion_matrix(cm,classes,normalize=False,title='Confusion Matrix',cmap=plt.cm.Blues):\n",
        "  plt.imshow(cm,interpolation='nearest',cmap=cmap)\n",
        "  plt.title(title)\n",
        "  plt.colorbar()\n",
        "  tick_marks=np.arange(len(classes))\n",
        "  plt.xticks(tick_marks,classes,rotation=45)\n",
        "  plt.yticks(tick_marks,classes,rotation=0)\n",
        "\n",
        "  if normalize:\n",
        "    cm=cm.astype('float')/am.sum(axis=1)[:,np.newaxis]\n",
        "    print(\"Normalized confusion matrix\")\n",
        "  else:\n",
        "    print(\"Confusion matrix,without normalization\")\n",
        "  \n",
        "  print(cm)\n",
        "\n",
        "  thresh=cm.max()/2\n",
        "  for i,j in itertools.product(range(cm.shape[0]),range(cm.shape[1])):\n",
        "    plt.text(j,i,cm[i,j],horizontalalignment='center',color='white' if cm[i,j]>thresh else 'black')\n",
        "  plt.tight_layout()\n",
        "  plt.ylabel('True label')\n",
        "  plt.xlabel('Predicted label')"
      ],
      "execution_count": null,
      "outputs": []
    },
    {
      "cell_type": "code",
      "metadata": {
        "id": "FE_lOvt1TRcQ",
        "colab_type": "code",
        "colab": {}
      },
      "source": [
        "from sklearn.metrics import confusion_matrix\n",
        "import itertools\n",
        "cm=confusion_matrix(y_true=test_gen.classes,y_pred=np.argmax(predictions,axis=-1))"
      ],
      "execution_count": null,
      "outputs": []
    },
    {
      "cell_type": "code",
      "metadata": {
        "id": "Kt3w-fA3TV5L",
        "colab_type": "code",
        "colab": {
          "base_uri": "https://localhost:8080/",
          "height": 378
        },
        "outputId": "6e233dcb-39e1-4bf1-a554-fa5cff16ff1d"
      },
      "source": [
        "cm_plot_labels=['covid','normal','pnumonia']\n",
        "plot_confusion_matrix(cm=cm,classes=cm_plot_labels,title='Confusion Matrix')"
      ],
      "execution_count": null,
      "outputs": [
        {
          "output_type": "stream",
          "text": [
            "Confusion matrix,without normalization\n",
            "[[27 40 33]\n",
            " [25 39 36]\n",
            " [34 49 17]]\n"
          ],
          "name": "stdout"
        },
        {
          "output_type": "display_data",
          "data": {
            "image/png": "[encoded data removed]",
            "text/plain": [
              "<Figure size 432x288 with 2 Axes>"
            ]
          },
          "metadata": {
            "tags": [],
            "needs_background": "light"
          }
        }
      ]
    },
    {
      "cell_type": "code",
      "metadata": {
        "id": "R_78VpUwTYQl",
        "colab_type": "code",
        "colab": {}
      },
      "source": [
        ""
      ],
      "execution_count": null,
      "outputs": []
    }
  ]
}